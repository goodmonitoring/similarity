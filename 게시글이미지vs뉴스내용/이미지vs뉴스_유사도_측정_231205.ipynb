{
  "nbformat": 4,
  "nbformat_minor": 0,
  "metadata": {
    "colab": {
      "provenance": []
    },
    "kernelspec": {
      "name": "python3",
      "display_name": "Python 3"
    },
    "language_info": {
      "name": "python"
    }
  },
  "cells": [
    {
      "cell_type": "code",
      "execution_count": null,
      "metadata": {
        "id": "u_l6JiazAB2O"
      },
      "outputs": [],
      "source": [
        "import pandas as pd"
      ]
    },
    {
      "cell_type": "code",
      "source": [
        "from google.colab import drive\n",
        "drive.mount('/content/drive')"
      ],
      "metadata": {
        "colab": {
          "base_uri": "https://localhost:8080/"
        },
        "id": "UJM1HPcGAFbN",
        "outputId": "66d20ce2-e63c-4e03-bf39-780a429f70ec"
      },
      "execution_count": null,
      "outputs": [
        {
          "output_type": "stream",
          "name": "stdout",
          "text": [
            "Mounted at /content/drive\n"
          ]
        }
      ]
    },
    {
      "cell_type": "code",
      "source": [
        "# 원데이터 가져오기\n",
        "df = pd.read_excel('/content/drive/MyDrive/유사도 모델/뉴스내용 vs SNS게시물이미지 간 유사도 측정_데이터.xlsx')"
      ],
      "metadata": {
        "id": "eSdCA3bZAFVV"
      },
      "execution_count": null,
      "outputs": []
    },
    {
      "cell_type": "code",
      "source": [
        "df.info()"
      ],
      "metadata": {
        "colab": {
          "base_uri": "https://localhost:8080/"
        },
        "id": "T_w0aFTqxKh6",
        "outputId": "feef944a-0120-49fe-d16a-d1b6b368ffe8"
      },
      "execution_count": null,
      "outputs": [
        {
          "output_type": "stream",
          "name": "stdout",
          "text": [
            "<class 'pandas.core.frame.DataFrame'>\n",
            "RangeIndex: 1394 entries, 0 to 1393\n",
            "Data columns (total 10 columns):\n",
            " #   Column         Non-Null Count  Dtype  \n",
            "---  ------         --------------  -----  \n",
            " 0   NO             1394 non-null   int64  \n",
            " 1   플랫폼            1394 non-null   object \n",
            " 2   파일명            1394 non-null   object \n",
            " 3   게시물이미지         1394 non-null   object \n",
            " 4   언론사명           1394 non-null   object \n",
            " 5   뉴스주소           1388 non-null   object \n",
            " 6   뉴스제목           1380 non-null   object \n",
            " 7   뉴스내용           1372 non-null   object \n",
            " 8   유사도(코사인)       0 non-null      float64\n",
            " 9   유사도(자카드_뉴스기준)  0 non-null      float64\n",
            "dtypes: float64(2), int64(1), object(7)\n",
            "memory usage: 109.0+ KB\n"
          ]
        }
      ]
    },
    {
      "cell_type": "code",
      "source": [
        "# 결측치 처리 - NaN를 존재하지 않는 단어로 변경\n",
        "nan_delete = df.fillna('꺍')"
      ],
      "metadata": {
        "id": "os8IE8OIB7NP"
      },
      "execution_count": null,
      "outputs": []
    },
    {
      "cell_type": "markdown",
      "source": [
        "코사인 유사도"
      ],
      "metadata": {
        "id": "j2EmduAsBB3l"
      }
    },
    {
      "cell_type": "code",
      "source": [
        "from sklearn.feature_extraction.text import TfidfVectorizer\n",
        "from sklearn.metrics.pairwise import cosine_similarity # cosine_similarity API 사용\n",
        "\n",
        "rowlen = nan_delete.shape[0] # 행 개수 추출\n",
        "\n",
        "# 행 개수만큼 반복하며 유사도 측정\n",
        "for i in range(0, rowlen):\n",
        "  sentences = (nan_delete['게시물이미지'][i], nan_delete['뉴스내용'][i])\n",
        "  tfidf_vectorizer = TfidfVectorizer() # td-idf vectorize 사용하여 벡터화 진행\n",
        "  tfidf_matrix = tfidf_vectorizer.fit_transform(sentences) # 문서 단어 행렬 반환\n",
        "\n",
        "  cos_similarity = cosine_similarity(tfidf_matrix[0], tfidf_matrix[1]) # cosine_similarity 측정\n",
        "  df['유사도(코사인)'][i] = cos_similarity[0][0] # cosine_similarity 저장"
      ],
      "metadata": {
        "id": "XWmFyuWkAFNN"
      },
      "execution_count": null,
      "outputs": []
    },
    {
      "cell_type": "markdown",
      "source": [
        "변형 자카드 유사도 (뉴스 기준)"
      ],
      "metadata": {
        "id": "ZYT_L4T1x_Rh"
      }
    },
    {
      "cell_type": "code",
      "source": [
        "rowlen = nan_delete.shape[0]\n",
        "\n",
        "for i in range(0, rowlen):\n",
        "  doc1 = nan_delete['게시물이미지'][i]\n",
        "  doc2 = nan_delete['뉴스내용'][i]\n",
        "\n",
        "  doc1_tokenized = str(doc1).split()\n",
        "  doc2_tokenized = str(doc2).split()\n",
        "\n",
        "  doc_intersection = set(doc1_tokenized).intersection(set(doc2_tokenized))\n",
        "\n",
        "  # 유사도 측정 - 뉴스 기준\n",
        "  if len(doc2_tokenized) == 0:\n",
        "    similarity = 0\n",
        "  else:\n",
        "    similarity = len(doc_intersection) / len(doc2_tokenized)\n",
        "\n",
        "\n",
        "  df['유사도(자카드_뉴스기준)'][i] = similarity"
      ],
      "metadata": {
        "id": "nX_zHDv4x94O"
      },
      "execution_count": null,
      "outputs": []
    },
    {
      "cell_type": "code",
      "source": [
        "# 엑셀파일로 데이터프레임 저장\n",
        "\n",
        "df.to_excel('뉴스내용vsSNS게시물이미지유사도측정_231205.xlsx')"
      ],
      "metadata": {
        "id": "K09p5I_DAFHV"
      },
      "execution_count": null,
      "outputs": []
    }
  ]
}