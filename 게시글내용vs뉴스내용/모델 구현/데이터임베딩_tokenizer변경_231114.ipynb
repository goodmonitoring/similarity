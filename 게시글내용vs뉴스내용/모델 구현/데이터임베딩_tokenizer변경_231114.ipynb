{
  "nbformat": 4,
  "nbformat_minor": 0,
  "metadata": {
    "colab": {
      "provenance": []
    },
    "kernelspec": {
      "name": "python3",
      "display_name": "Python 3"
    },
    "language_info": {
      "name": "python"
    }
  },
  "cells": [
    {
      "cell_type": "code",
      "execution_count": null,
      "metadata": {
        "colab": {
          "base_uri": "https://localhost:8080/"
        },
        "id": "wZsx5fLdoYuq",
        "outputId": "fe14b23f-1e39-48ee-f0f7-48dbd6d0dd6a"
      },
      "outputs": [
        {
          "output_type": "stream",
          "name": "stdout",
          "text": [
            "Requirement already satisfied: konlpy in /usr/local/lib/python3.10/dist-packages (0.6.0)\n",
            "Requirement already satisfied: JPype1>=0.7.0 in /usr/local/lib/python3.10/dist-packages (from konlpy) (1.4.1)\n",
            "Requirement already satisfied: lxml>=4.1.0 in /usr/local/lib/python3.10/dist-packages (from konlpy) (4.9.3)\n",
            "Requirement already satisfied: numpy>=1.6 in /usr/local/lib/python3.10/dist-packages (from konlpy) (1.23.5)\n",
            "Requirement already satisfied: packaging in /usr/local/lib/python3.10/dist-packages (from JPype1>=0.7.0->konlpy) (23.2)\n",
            "Requirement already satisfied: mecab-python in /usr/local/lib/python3.10/dist-packages (1.0.0)\n",
            "Requirement already satisfied: mecab-python3 in /usr/local/lib/python3.10/dist-packages (from mecab-python) (1.0.8)\n",
            "mecab-ko is already installed\n",
            "mecab-ko-dic is already installed\n",
            "mecab-python is already installed\n",
            "Done.\n"
          ]
        }
      ],
      "source": [
        "# 형태소 분석기 Mecab 설치\n",
        "\n",
        "!pip install konlpy\n",
        "!pip install mecab-python\n",
        "!bash <(curl -s https://raw.githubusercontent.com/konlpy/konlpy/master/scripts/mecab.sh)"
      ]
    },
    {
      "cell_type": "code",
      "source": [
        "import pandas as pd\n",
        "from konlpy.tag import Mecab\n",
        "from gensim.models.doc2vec import TaggedDocument\n",
        "from tqdm import tqdm"
      ],
      "metadata": {
        "id": "pwEVSdCboaO2"
      },
      "execution_count": null,
      "outputs": []
    },
    {
      "cell_type": "code",
      "source": [
        "from google.colab import drive\n",
        "drive.mount('/content/drive')"
      ],
      "metadata": {
        "colab": {
          "base_uri": "https://localhost:8080/"
        },
        "id": "5TTrHv19oaHV",
        "outputId": "d6b32410-0f22-4f03-f6b5-2ba990470213"
      },
      "execution_count": null,
      "outputs": [
        {
          "output_type": "stream",
          "name": "stdout",
          "text": [
            "Drive already mounted at /content/drive; to attempt to forcibly remount, call drive.mount(\"/content/drive\", force_remount=True).\n"
          ]
        }
      ]
    },
    {
      "cell_type": "code",
      "source": [
        "df = pd.read_excel('/content/drive/MyDrive/유사도 모델/뉴스내용정제_불용어처리_유사도측정결과_231101_게시물내용변경.xlsx')"
      ],
      "metadata": {
        "id": "dIdctZcvoaDV"
      },
      "execution_count": null,
      "outputs": []
    },
    {
      "cell_type": "code",
      "source": [
        "df.info()"
      ],
      "metadata": {
        "colab": {
          "base_uri": "https://localhost:8080/"
        },
        "id": "F7fFxo_uoZ4u",
        "outputId": "78df769d-f2ea-4791-dc4e-64d3e09fa7c6"
      },
      "execution_count": null,
      "outputs": [
        {
          "output_type": "stream",
          "name": "stdout",
          "text": [
            "<class 'pandas.core.frame.DataFrame'>\n",
            "RangeIndex: 4460 entries, 0 to 4459\n",
            "Data columns (total 19 columns):\n",
            " #   Column           Non-Null Count  Dtype         \n",
            "---  ------           --------------  -----         \n",
            " 0   NO               4460 non-null   int64         \n",
            " 1   플랫폼              4460 non-null   object        \n",
            " 2   검색어(뉴스,증권뉴스등)    4460 non-null   object        \n",
            " 3   게시물주소            4460 non-null   object        \n",
            " 4   게시물제목            4460 non-null   object        \n",
            " 5   게시물등록일           4460 non-null   datetime64[ns]\n",
            " 6   게시물내용            4460 non-null   object        \n",
            " 7   언론사명             4460 non-null   object        \n",
            " 8   뉴스주소             4460 non-null   object        \n",
            " 9   뉴스제목             4375 non-null   object        \n",
            " 10  뉴스내용_정제전         4460 non-null   object        \n",
            " 11  뉴스내용_정제후         4454 non-null   object        \n",
            " 12  뉴스내용_불용어제거       4454 non-null   object        \n",
            " 13  유사도_정제전          4460 non-null   float64       \n",
            " 14  유사도_정제후          4460 non-null   float64       \n",
            " 15  비교(정제전vs정제후)     4460 non-null   float64       \n",
            " 16  유사도_불용어제거        4460 non-null   float64       \n",
            " 17  비교(정제후vs불용어처리후)  4460 non-null   float64       \n",
            " 18  similarity       4460 non-null   int64         \n",
            "dtypes: datetime64[ns](1), float64(5), int64(2), object(11)\n",
            "memory usage: 662.2+ KB\n"
          ]
        }
      ]
    },
    {
      "cell_type": "code",
      "source": [
        "# 플랫폼 - 4개 항목에 대하여 원핫인코딩 진행\n",
        "from keras.preprocessing.text import Tokenizer\n",
        "\n",
        "tokenizer = Tokenizer(num_words = 4)\n",
        "\n",
        "# 단어 인덱스 구축\n",
        "tokenizer.fit_on_texts(df['플랫폼'])\n",
        "\n",
        "# 문자열을 정수 인덱스의 리스트로 변환\n",
        "sequences = tokenizer.texts_to_sequences(df['플랫폼'])\n",
        "\n",
        "# 원-핫 이진 벡터 표현 얻기\n",
        "one_hot_results = tokenizer.texts_to_matrix(df['플랫폼'], mode='binary')\n",
        "\n",
        "# 계산되 단어 인덱스 구하기\n",
        "word_index = tokenizer.word_index\n",
        "\n",
        "print(len(word_index))\n",
        "print(word_index)"
      ],
      "metadata": {
        "colab": {
          "base_uri": "https://localhost:8080/"
        },
        "id": "vWzgkhMeoZ1N",
        "outputId": "06f4d703-379e-4327-8d55-4bf54394851a"
      },
      "execution_count": null,
      "outputs": [
        {
          "output_type": "stream",
          "name": "stdout",
          "text": [
            "4\n",
            "{'네이버블로그': 1, '인스타그램': 2, '유튜브': 3, '페이스북': 4}\n"
          ]
        }
      ]
    },
    {
      "cell_type": "code",
      "source": [
        "sentences = df['플랫폼']"
      ],
      "metadata": {
        "id": "YVHmtX1moZxN"
      },
      "execution_count": null,
      "outputs": []
    },
    {
      "cell_type": "code",
      "source": [
        "sentences"
      ],
      "metadata": {
        "colab": {
          "base_uri": "https://localhost:8080/"
        },
        "id": "GBXk4rTBoZtV",
        "outputId": "e746f6d4-5ea8-48b5-d080-242b4f862b90"
      },
      "execution_count": null,
      "outputs": [
        {
          "output_type": "execute_result",
          "data": {
            "text/plain": [
              "0       페이스북\n",
              "1       페이스북\n",
              "2       페이스북\n",
              "3       페이스북\n",
              "4       페이스북\n",
              "        ... \n",
              "4455     유튜브\n",
              "4456     유튜브\n",
              "4457     유튜브\n",
              "4458     유튜브\n",
              "4459     유튜브\n",
              "Name: 플랫폼, Length: 4460, dtype: object"
            ]
          },
          "metadata": {},
          "execution_count": 8
        }
      ]
    },
    {
      "cell_type": "code",
      "source": [
        "encoded = []\n",
        "count = 0\n",
        "for s in sentences:\n",
        "  print(s)\n",
        "  encoded.append(word_index[s])"
      ],
      "metadata": {
        "id": "-q8aEV2EoZpd"
      },
      "execution_count": null,
      "outputs": []
    },
    {
      "cell_type": "code",
      "source": [
        "df['플랫폼'] = encoded"
      ],
      "metadata": {
        "id": "8TMr8evjpqoN"
      },
      "execution_count": null,
      "outputs": []
    },
    {
      "cell_type": "markdown",
      "source": [
        "검색어\n"
      ],
      "metadata": {
        "id": "JnQ0uosEpsxV"
      }
    },
    {
      "cell_type": "code",
      "source": [
        "# 검색어\n",
        "from keras.preprocessing.text import Tokenizer\n",
        "\n",
        "tokenizer = Tokenizer()\n",
        "\n",
        "# 단어 인덱스 구축\n",
        "tokenizer.fit_on_texts(df['검색어(뉴스,증권뉴스등)'])\n",
        "\n",
        "# 문자열을 정수 인덱스의 리스트로 변환\n",
        "sequences = tokenizer.texts_to_sequences(df['검색어(뉴스,증권뉴스등)'])\n",
        "\n",
        "# 원-핫 이진 벡터 표현 얻기\n",
        "one_hot_results = tokenizer.texts_to_matrix(df['검색어(뉴스,증권뉴스등)'])\n",
        "\n",
        "# 계산 단어 인덱스 구하기\n",
        "word_index = tokenizer.word_index\n",
        "\n",
        "print(len(word_index))\n",
        "print(word_index)"
      ],
      "metadata": {
        "colab": {
          "base_uri": "https://localhost:8080/"
        },
        "id": "qBS2EefgpqlF",
        "outputId": "e71f65b8-2da1-49d5-b98f-c194a93dc796"
      },
      "execution_count": null,
      "outputs": [
        {
          "output_type": "stream",
          "name": "stdout",
          "text": [
            "121\n",
            "{'신문사설읽기': 1, '기사': 2, '데일리안': 3, '경북일보': 4, '노컷뉴스': 5, '경남도민일보': 6, '세계일보': 7, '대구신문': 8, '경향신문': 9, '경북도민일보': 10, '뉴스핌': 11, '강원도민일보': 12, '농민신문': 13, '오늘뉴스': 14, '중부매일': 15, '대전일보': 16, '국민일보': 17, '이데일리': 18, '전북도민일보': 19, '강원일보': 20, '중도일보': 21, '제민일보': 22, '경북매일신문': 23, '일요신문': 24, '경남신문': 25, '김포신문': 26, '중부일보': 27, '한국일보': 28, '경기일보': 29, 'pd저널': 30, '경상일보': 31, '원주투데이': 32, '경남일보': 33, '주간한국': 34, '전라일보': 35, '스포츠경향': 36, '정치읽기': 37, '코리아헤럴드': 38, '평택시민신문': 39, '무등일보': 40, '남도일보': 41, '머니투데이': 42, '파이낸셜뉴스': 43, '내일신문': 44, '동양일보': 45, '전북일보': 46, '전자신문': 47, '뉴스': 48, '매일신문': 49, '종이신문': 50, '한겨레': 51, '국제신문': 52, 'e대한경제': 53, '이투데이': 54, '한국일보기사': 55, '아주경제': 56, '미디어오늘': 57, '당진시대': 58, '광주일보': 59, '전남일보': 60, '아시아경제': 61, '인천일보': 62, '부동산뉴스': 63, '주식스크랩': 64, '경인일보': 65, '서울신문': 66, '광주매일신문': 67, 'ytn': 68, 'breaknews': 69, '신문읽기': 70, '브릿지경제': 71, '새전북신문': 72, '충북일보': 73, '동아일보': 74, '뉴스기사': 75, '서울경제': 76, '환경일보': 77, '고양신문': 78, '기사공유': 79, '기호일보': 80, '신문사설': 81, '스포츠서울': 82, '스포츠월드': 83, '경제뉴스스크랩': 84, '코리아타임스': 85, '스크랩': 86, '헤럴드경제': 87, '뉴스서천': 88, '만평': 89, '오늘의': 90, '주식뉴스': 91, '기사정리': 92, '충청투데이': 93, '대덕넷': 94, '대구일보': 95, '소년한국일보': 96, '사회뉴스스크랩': 97, '울산신문': 98, '한라일보': 99, 'obs': 100, '정치뉴스스크랩': 101, '옥천신문': 102, '기자': 103, '기사읽기': 104, '신문분석': 105, '신문스크랩': 106, '신문': 107, '기자협회보': 108, '영남일보': 109, 'sbs': 110, 'kbs': 111, '신문필사': 112, '공유': 113, '울산매일': 114, 'mbc': 115, '충청일보': 116, '증권뉴스': 117, '신문사사설읽기': 118, '사설이야기': 119, '경제': 120, '시사': 121}\n"
          ]
        }
      ]
    },
    {
      "cell_type": "code",
      "source": [
        "#'YTN과 ytn을 같은 것으로 인식하지 못함 -> YTN을 ytn으로 변경하기\n",
        "# BreakNews와 breaknews를 같은 것으로 인식하지 못함. -> BreakNews를 breaknews로 변경하기\n",
        "# MBC와 mbc를 같은 것으로 인식하지 못함 -> MBC를 mbc로 변경하기\n",
        "# OBS와 obs를 같은 것으로 인식하지 못함. -> OBS를 obs로 변경하기\n",
        "# SBS와 sbs를 같은 것으로 인식하지 못함. -> SBS를 sbs로 변경하기\n",
        "# KBS와 kbs를 같은 것으로 인식하지 못함. -> KBS를 kbs로 변경하기\n",
        "\n",
        "dflen = len(df)\n",
        "\n",
        "for i in range(0, dflen):\n",
        "  if df['검색어(뉴스,증권뉴스등)'][i] == 'YTN':\n",
        "    df['검색어(뉴스,증권뉴스등)'][i] = 'ytn'\n",
        "\n",
        "  if df['검색어(뉴스,증권뉴스등)'][i] == 'BreakNews':\n",
        "    df['검색어(뉴스,증권뉴스등)'][i] = 'breaknews'\n",
        "\n",
        "  if df['검색어(뉴스,증권뉴스등)'][i] == 'MBC':\n",
        "    df['검색어(뉴스,증권뉴스등)'][i] = 'mbc'\n",
        "\n",
        "  if df['검색어(뉴스,증권뉴스등)'][i] == 'OBS':\n",
        "    df['검색어(뉴스,증권뉴스등)'][i] = 'obs'\n",
        "\n",
        "  if df['검색어(뉴스,증권뉴스등)'][i] == 'SBS':\n",
        "    df['검색어(뉴스,증권뉴스등)'][i] = 'sbs'\n",
        "\n",
        "  if df['검색어(뉴스,증권뉴스등)'][i] == 'KBS':\n",
        "    df['검색어(뉴스,증권뉴스등)'][i] = 'kbs'\n",
        "\n",
        "  if df['검색어(뉴스,증권뉴스등)'][i] == '서울신문 ':\n",
        "    df['검색어(뉴스,증권뉴스등)'][i] = '서울신문'"
      ],
      "metadata": {
        "id": "JjN4wAxWpqh9"
      },
      "execution_count": null,
      "outputs": []
    },
    {
      "cell_type": "code",
      "source": [
        "# 인덱스에 존재하지 않은 값들이 존재해서 수동으로 값 지정함.\n",
        "word_index['기사 스크랩'] = 120\n",
        "word_index['오늘의 뉴스'] = 121\n",
        "word_index['신문 기사'] = 122\n",
        "word_index['뉴스 공유'] = 123\n",
        "word_index['뉴스 스크랩'] = 124\n",
        "word_index['PD저널'] = 125\n",
        "word_index['한겨레 기사'] = 126\n",
        "word_index['코리아헤럴드 기사'] = 127\n",
        "word_index['머니투데이 기사'] = 128\n",
        "word_index['경향신문 기사'] = 129\n",
        "word_index['미디어오늘 기사'] = 130\n",
        "word_index['코리아타임스 기사'] = 131\n",
        "word_index['스포츠경향 기사'] = 132\n",
        "word_index['동아일보 기사'] = 133\n",
        "word_index['스포츠서울 기사'] = 134\n",
        "word_index['스포츠월드 기사'] = 135\n",
        "word_index['기자협회보 기사'] = 136"
      ],
      "metadata": {
        "id": "X7A6-bezpqb9"
      },
      "execution_count": null,
      "outputs": []
    },
    {
      "cell_type": "code",
      "source": [
        "sentences = df['검색어(뉴스,증권뉴스등)']\n",
        "encoded = []\n",
        "count = 0\n",
        "for s in sentences:\n",
        "  print(s)\n",
        "  encoded.append(word_index[s])"
      ],
      "metadata": {
        "id": "VtimodIopqZD"
      },
      "execution_count": null,
      "outputs": []
    },
    {
      "cell_type": "code",
      "source": [
        "df['검색어(뉴스,증권뉴스등)'] = encoded"
      ],
      "metadata": {
        "id": "aaU-h4VrpqVt"
      },
      "execution_count": null,
      "outputs": []
    },
    {
      "cell_type": "code",
      "source": [
        "from konlpy.tag import Mecab"
      ],
      "metadata": {
        "id": "guhzbyJIMnpu"
      },
      "execution_count": null,
      "outputs": []
    },
    {
      "cell_type": "code",
      "source": [
        "# Mecab 설치\n",
        "!apt-get update\n",
        "!apt-get install g++ openjdk-8-jdk\n",
        "!pip3 install konlpy JPype1-py3\n",
        "!bash <(curl -s https://raw.githubusercontent.com/konlpy/konlpy/master/scripts/mecab.sh)\n",
        "\n",
        "# mecab-python의 버전 오류로 인해 아래 패키지를 설치하면 코랩에서 Mecab을 사용가능\n",
        "!pip install mecab-python3"
      ],
      "metadata": {
        "colab": {
          "base_uri": "https://localhost:8080/"
        },
        "id": "Q6XTiisSOlPy",
        "outputId": "407e527f-dcdd-4564-b0a0-f4fe1018e78f"
      },
      "execution_count": null,
      "outputs": [
        {
          "output_type": "stream",
          "name": "stdout",
          "text": [
            "\r0% [Working]\r            \rHit:1 http://security.ubuntu.com/ubuntu jammy-security InRelease\n",
            "\r0% [Connecting to archive.ubuntu.com] [Connected to cloud.r-project.org (52.85.151.93)] [Connecting \r                                                                                                    \rHit:2 http://archive.ubuntu.com/ubuntu jammy InRelease\n",
            "Hit:3 http://archive.ubuntu.com/ubuntu jammy-updates InRelease\n",
            "Hit:4 http://archive.ubuntu.com/ubuntu jammy-backports InRelease\n",
            "Hit:5 https://cloud.r-project.org/bin/linux/ubuntu jammy-cran40/ InRelease\n",
            "Hit:6 https://developer.download.nvidia.com/compute/cuda/repos/ubuntu2204/x86_64  InRelease\n",
            "Hit:7 https://ppa.launchpadcontent.net/c2d4u.team/c2d4u4.0+/ubuntu jammy InRelease\n",
            "Hit:8 https://ppa.launchpadcontent.net/deadsnakes/ppa/ubuntu jammy InRelease\n",
            "Hit:9 https://ppa.launchpadcontent.net/graphics-drivers/ppa/ubuntu jammy InRelease\n",
            "Hit:10 https://ppa.launchpadcontent.net/ubuntugis/ppa/ubuntu jammy InRelease\n",
            "Reading package lists... Done\n",
            "Reading package lists... Done\n",
            "Building dependency tree... Done\n",
            "Reading state information... Done\n",
            "g++ is already the newest version (4:11.2.0-1ubuntu1).\n",
            "openjdk-8-jdk is already the newest version (8u382-ga-1~22.04.1).\n",
            "0 upgraded, 0 newly installed, 0 to remove and 8 not upgraded.\n",
            "Requirement already satisfied: konlpy in /usr/local/lib/python3.10/dist-packages (0.6.0)\n",
            "Requirement already satisfied: JPype1-py3 in /usr/local/lib/python3.10/dist-packages (0.5.5.4)\n",
            "Requirement already satisfied: JPype1>=0.7.0 in /usr/local/lib/python3.10/dist-packages (from konlpy) (1.4.1)\n",
            "Requirement already satisfied: lxml>=4.1.0 in /usr/local/lib/python3.10/dist-packages (from konlpy) (4.9.3)\n",
            "Requirement already satisfied: numpy>=1.6 in /usr/local/lib/python3.10/dist-packages (from konlpy) (1.23.5)\n",
            "Requirement already satisfied: packaging in /usr/local/lib/python3.10/dist-packages (from JPype1>=0.7.0->konlpy) (23.2)\n",
            "mecab-ko is already installed\n",
            "mecab-ko-dic is already installed\n",
            "mecab-python is already installed\n",
            "Done.\n",
            "Requirement already satisfied: mecab-python3 in /usr/local/lib/python3.10/dist-packages (1.0.8)\n"
          ]
        }
      ]
    },
    {
      "cell_type": "code",
      "source": [
        "from konlpy.tag import Mecab"
      ],
      "metadata": {
        "id": "8Ygb2NO9OlM7"
      },
      "execution_count": null,
      "outputs": []
    },
    {
      "cell_type": "code",
      "source": [
        "mecab = Mecab()"
      ],
      "metadata": {
        "id": "xE46f77iSoy4"
      },
      "execution_count": null,
      "outputs": []
    },
    {
      "cell_type": "code",
      "source": [
        "import numpy as np"
      ],
      "metadata": {
        "id": "L1Vvu-3lXeu1"
      },
      "execution_count": null,
      "outputs": []
    },
    {
      "cell_type": "markdown",
      "source": [],
      "metadata": {
        "id": "EWbRBhl-TTFH"
      }
    },
    {
      "cell_type": "code",
      "source": [
        "df['게시물제목'] = df['게시물제목'].str.replace('[^ㄱ-ㅎ ㅏ-ㅣ 가-힝]', '')"
      ],
      "metadata": {
        "colab": {
          "base_uri": "https://localhost:8080/"
        },
        "id": "rgdYFHqOTS5H",
        "outputId": "317369ca-60d5-4f10-b410-9de24a7135c1"
      },
      "execution_count": null,
      "outputs": [
        {
          "output_type": "stream",
          "name": "stderr",
          "text": [
            "<ipython-input-27-1eaac9dcc16a>:1: FutureWarning: The default value of regex will change from True to False in a future version.\n",
            "  df['게시물제목'] = df['게시물제목'].str.replace('[^ㄱ-ㅎ ㅏ-ㅣ 가-힝]', '')\n"
          ]
        }
      ]
    },
    {
      "cell_type": "code",
      "source": [
        "df['게시물제목'] = df['게시물제목'].replace(' ', np.nan)"
      ],
      "metadata": {
        "id": "lnPu2ctqXaKd"
      },
      "execution_count": null,
      "outputs": []
    },
    {
      "cell_type": "code",
      "source": [
        "df = df.dropna()"
      ],
      "metadata": {
        "id": "t8ynVgX2Xakl"
      },
      "execution_count": null,
      "outputs": []
    },
    {
      "cell_type": "code",
      "source": [
        "df = df.reset_index(drop = True) # df에 저장시켜줘야 정보가 저장됨."
      ],
      "metadata": {
        "id": "4s1v61myXb9F"
      },
      "execution_count": null,
      "outputs": []
    },
    {
      "cell_type": "code",
      "source": [
        "from gensim.models import Word2Vec"
      ],
      "metadata": {
        "id": "Jkuklg-ZTSzf"
      },
      "execution_count": null,
      "outputs": []
    },
    {
      "cell_type": "code",
      "source": [
        "# 토큰화 함수 생성\n",
        "\n",
        "def tokenize(doc):\n",
        "  return [mecab.morphs(doc)]"
      ],
      "metadata": {
        "id": "U-ZuzEZJTlwI"
      },
      "execution_count": null,
      "outputs": []
    },
    {
      "cell_type": "code",
      "source": [
        "sns_token = []\n",
        "for i in df['게시물제목']:\n",
        "  sns_token.append(tokenize(i))"
      ],
      "metadata": {
        "id": "oFk-5jHMTyHB"
      },
      "execution_count": null,
      "outputs": []
    },
    {
      "cell_type": "code",
      "source": [
        "new_df = pd.DataFrame(sns_token)\n",
        "new_df"
      ],
      "metadata": {
        "colab": {
          "base_uri": "https://localhost:8080/",
          "height": 423
        },
        "id": "TELg0MrETyFP",
        "outputId": "45b1947d-216e-448d-eb10-2b5e0ca4726c"
      },
      "execution_count": null,
      "outputs": [
        {
          "output_type": "execute_result",
          "data": {
            "text/plain": [
              "                                                      0\n",
              "0     [검찰, 아태, 협, 회장, 경기도, 보조금, 억, 횡령, 해, 생활비, 유흥비, 사용]\n",
              "1              [쉽, 지, 않, 네, 글로벌, 투자, 유치, 역풍, 맞, 은, 유니콘]\n",
              "2               [올리, 패스, 내년, 초, 비, 마약, 성, 진통제, 중간값, 발표]\n",
              "3     [이, 데일리, 김화빈, 기자, 유튜브, 채널, 에, 출연, 해, 과거, 한, 나이...\n",
              "4     [금산군, 의회, 김기윤, 산업, 건설, 위원장, 인터뷰, 가, 충청, 투데이, 지...\n",
              "...                                                 ...\n",
              "4358  [오른발, 잡, 이, 손흥민, 이, 무시무시, 한, 왼발, 괴물, 이, 된, 비밀,...\n",
              "4359  [사설, 읽, 기, ㅡ, 화물, 연대, 협상, 타결, 안전, 운임, 완전, 제도, ...\n",
              "4360  [차, 유채, 기자, 머니, 투데이, 한동훈, 안경, 어디, 거, 모델, 포스, 남...\n",
              "4361  [고성, 여행, 자, 모양, 강원, 고성, 화, 진포, 에, 숨, 은, 화진, 팔경...\n",
              "4362  [아들, 에게, 무슨, 주식, 을, 사, 주, 었, 을까, 따라와, 아들, 계좌, ...\n",
              "\n",
              "[4363 rows x 1 columns]"
            ],
            "text/html": [
              "\n",
              "  <div id=\"df-1f14aaec-7a15-42cc-8a83-fc8acf7ba2f7\" class=\"colab-df-container\">\n",
              "    <div>\n",
              "<style scoped>\n",
              "    .dataframe tbody tr th:only-of-type {\n",
              "        vertical-align: middle;\n",
              "    }\n",
              "\n",
              "    .dataframe tbody tr th {\n",
              "        vertical-align: top;\n",
              "    }\n",
              "\n",
              "    .dataframe thead th {\n",
              "        text-align: right;\n",
              "    }\n",
              "</style>\n",
              "<table border=\"1\" class=\"dataframe\">\n",
              "  <thead>\n",
              "    <tr style=\"text-align: right;\">\n",
              "      <th></th>\n",
              "      <th>0</th>\n",
              "    </tr>\n",
              "  </thead>\n",
              "  <tbody>\n",
              "    <tr>\n",
              "      <th>0</th>\n",
              "      <td>[검찰, 아태, 협, 회장, 경기도, 보조금, 억, 횡령, 해, 생활비, 유흥비, 사용]</td>\n",
              "    </tr>\n",
              "    <tr>\n",
              "      <th>1</th>\n",
              "      <td>[쉽, 지, 않, 네, 글로벌, 투자, 유치, 역풍, 맞, 은, 유니콘]</td>\n",
              "    </tr>\n",
              "    <tr>\n",
              "      <th>2</th>\n",
              "      <td>[올리, 패스, 내년, 초, 비, 마약, 성, 진통제, 중간값, 발표]</td>\n",
              "    </tr>\n",
              "    <tr>\n",
              "      <th>3</th>\n",
              "      <td>[이, 데일리, 김화빈, 기자, 유튜브, 채널, 에, 출연, 해, 과거, 한, 나이...</td>\n",
              "    </tr>\n",
              "    <tr>\n",
              "      <th>4</th>\n",
              "      <td>[금산군, 의회, 김기윤, 산업, 건설, 위원장, 인터뷰, 가, 충청, 투데이, 지...</td>\n",
              "    </tr>\n",
              "    <tr>\n",
              "      <th>...</th>\n",
              "      <td>...</td>\n",
              "    </tr>\n",
              "    <tr>\n",
              "      <th>4358</th>\n",
              "      <td>[오른발, 잡, 이, 손흥민, 이, 무시무시, 한, 왼발, 괴물, 이, 된, 비밀,...</td>\n",
              "    </tr>\n",
              "    <tr>\n",
              "      <th>4359</th>\n",
              "      <td>[사설, 읽, 기, ㅡ, 화물, 연대, 협상, 타결, 안전, 운임, 완전, 제도, ...</td>\n",
              "    </tr>\n",
              "    <tr>\n",
              "      <th>4360</th>\n",
              "      <td>[차, 유채, 기자, 머니, 투데이, 한동훈, 안경, 어디, 거, 모델, 포스, 남...</td>\n",
              "    </tr>\n",
              "    <tr>\n",
              "      <th>4361</th>\n",
              "      <td>[고성, 여행, 자, 모양, 강원, 고성, 화, 진포, 에, 숨, 은, 화진, 팔경...</td>\n",
              "    </tr>\n",
              "    <tr>\n",
              "      <th>4362</th>\n",
              "      <td>[아들, 에게, 무슨, 주식, 을, 사, 주, 었, 을까, 따라와, 아들, 계좌, ...</td>\n",
              "    </tr>\n",
              "  </tbody>\n",
              "</table>\n",
              "<p>4363 rows × 1 columns</p>\n",
              "</div>\n",
              "    <div class=\"colab-df-buttons\">\n",
              "\n",
              "  <div class=\"colab-df-container\">\n",
              "    <button class=\"colab-df-convert\" onclick=\"convertToInteractive('df-1f14aaec-7a15-42cc-8a83-fc8acf7ba2f7')\"\n",
              "            title=\"Convert this dataframe to an interactive table.\"\n",
              "            style=\"display:none;\">\n",
              "\n",
              "  <svg xmlns=\"http://www.w3.org/2000/svg\" height=\"24px\" viewBox=\"0 -960 960 960\">\n",
              "    <path d=\"M120-120v-720h720v720H120Zm60-500h600v-160H180v160Zm220 220h160v-160H400v160Zm0 220h160v-160H400v160ZM180-400h160v-160H180v160Zm440 0h160v-160H620v160ZM180-180h160v-160H180v160Zm440 0h160v-160H620v160Z\"/>\n",
              "  </svg>\n",
              "    </button>\n",
              "\n",
              "  <style>\n",
              "    .colab-df-container {\n",
              "      display:flex;\n",
              "      gap: 12px;\n",
              "    }\n",
              "\n",
              "    .colab-df-convert {\n",
              "      background-color: #E8F0FE;\n",
              "      border: none;\n",
              "      border-radius: 50%;\n",
              "      cursor: pointer;\n",
              "      display: none;\n",
              "      fill: #1967D2;\n",
              "      height: 32px;\n",
              "      padding: 0 0 0 0;\n",
              "      width: 32px;\n",
              "    }\n",
              "\n",
              "    .colab-df-convert:hover {\n",
              "      background-color: #E2EBFA;\n",
              "      box-shadow: 0px 1px 2px rgba(60, 64, 67, 0.3), 0px 1px 3px 1px rgba(60, 64, 67, 0.15);\n",
              "      fill: #174EA6;\n",
              "    }\n",
              "\n",
              "    .colab-df-buttons div {\n",
              "      margin-bottom: 4px;\n",
              "    }\n",
              "\n",
              "    [theme=dark] .colab-df-convert {\n",
              "      background-color: #3B4455;\n",
              "      fill: #D2E3FC;\n",
              "    }\n",
              "\n",
              "    [theme=dark] .colab-df-convert:hover {\n",
              "      background-color: #434B5C;\n",
              "      box-shadow: 0px 1px 3px 1px rgba(0, 0, 0, 0.15);\n",
              "      filter: drop-shadow(0px 1px 2px rgba(0, 0, 0, 0.3));\n",
              "      fill: #FFFFFF;\n",
              "    }\n",
              "  </style>\n",
              "\n",
              "    <script>\n",
              "      const buttonEl =\n",
              "        document.querySelector('#df-1f14aaec-7a15-42cc-8a83-fc8acf7ba2f7 button.colab-df-convert');\n",
              "      buttonEl.style.display =\n",
              "        google.colab.kernel.accessAllowed ? 'block' : 'none';\n",
              "\n",
              "      async function convertToInteractive(key) {\n",
              "        const element = document.querySelector('#df-1f14aaec-7a15-42cc-8a83-fc8acf7ba2f7');\n",
              "        const dataTable =\n",
              "          await google.colab.kernel.invokeFunction('convertToInteractive',\n",
              "                                                    [key], {});\n",
              "        if (!dataTable) return;\n",
              "\n",
              "        const docLinkHtml = 'Like what you see? Visit the ' +\n",
              "          '<a target=\"_blank\" href=https://colab.research.google.com/notebooks/data_table.ipynb>data table notebook</a>'\n",
              "          + ' to learn more about interactive tables.';\n",
              "        element.innerHTML = '';\n",
              "        dataTable['output_type'] = 'display_data';\n",
              "        await google.colab.output.renderOutput(dataTable, element);\n",
              "        const docLink = document.createElement('div');\n",
              "        docLink.innerHTML = docLinkHtml;\n",
              "        element.appendChild(docLink);\n",
              "      }\n",
              "    </script>\n",
              "  </div>\n",
              "\n",
              "\n",
              "<div id=\"df-239e6c77-7f21-43e9-93c2-8904aa28ab15\">\n",
              "  <button class=\"colab-df-quickchart\" onclick=\"quickchart('df-239e6c77-7f21-43e9-93c2-8904aa28ab15')\"\n",
              "            title=\"Suggest charts\"\n",
              "            style=\"display:none;\">\n",
              "\n",
              "<svg xmlns=\"http://www.w3.org/2000/svg\" height=\"24px\"viewBox=\"0 0 24 24\"\n",
              "     width=\"24px\">\n",
              "    <g>\n",
              "        <path d=\"M19 3H5c-1.1 0-2 .9-2 2v14c0 1.1.9 2 2 2h14c1.1 0 2-.9 2-2V5c0-1.1-.9-2-2-2zM9 17H7v-7h2v7zm4 0h-2V7h2v10zm4 0h-2v-4h2v4z\"/>\n",
              "    </g>\n",
              "</svg>\n",
              "  </button>\n",
              "\n",
              "<style>\n",
              "  .colab-df-quickchart {\n",
              "      --bg-color: #E8F0FE;\n",
              "      --fill-color: #1967D2;\n",
              "      --hover-bg-color: #E2EBFA;\n",
              "      --hover-fill-color: #174EA6;\n",
              "      --disabled-fill-color: #AAA;\n",
              "      --disabled-bg-color: #DDD;\n",
              "  }\n",
              "\n",
              "  [theme=dark] .colab-df-quickchart {\n",
              "      --bg-color: #3B4455;\n",
              "      --fill-color: #D2E3FC;\n",
              "      --hover-bg-color: #434B5C;\n",
              "      --hover-fill-color: #FFFFFF;\n",
              "      --disabled-bg-color: #3B4455;\n",
              "      --disabled-fill-color: #666;\n",
              "  }\n",
              "\n",
              "  .colab-df-quickchart {\n",
              "    background-color: var(--bg-color);\n",
              "    border: none;\n",
              "    border-radius: 50%;\n",
              "    cursor: pointer;\n",
              "    display: none;\n",
              "    fill: var(--fill-color);\n",
              "    height: 32px;\n",
              "    padding: 0;\n",
              "    width: 32px;\n",
              "  }\n",
              "\n",
              "  .colab-df-quickchart:hover {\n",
              "    background-color: var(--hover-bg-color);\n",
              "    box-shadow: 0 1px 2px rgba(60, 64, 67, 0.3), 0 1px 3px 1px rgba(60, 64, 67, 0.15);\n",
              "    fill: var(--button-hover-fill-color);\n",
              "  }\n",
              "\n",
              "  .colab-df-quickchart-complete:disabled,\n",
              "  .colab-df-quickchart-complete:disabled:hover {\n",
              "    background-color: var(--disabled-bg-color);\n",
              "    fill: var(--disabled-fill-color);\n",
              "    box-shadow: none;\n",
              "  }\n",
              "\n",
              "  .colab-df-spinner {\n",
              "    border: 2px solid var(--fill-color);\n",
              "    border-color: transparent;\n",
              "    border-bottom-color: var(--fill-color);\n",
              "    animation:\n",
              "      spin 1s steps(1) infinite;\n",
              "  }\n",
              "\n",
              "  @keyframes spin {\n",
              "    0% {\n",
              "      border-color: transparent;\n",
              "      border-bottom-color: var(--fill-color);\n",
              "      border-left-color: var(--fill-color);\n",
              "    }\n",
              "    20% {\n",
              "      border-color: transparent;\n",
              "      border-left-color: var(--fill-color);\n",
              "      border-top-color: var(--fill-color);\n",
              "    }\n",
              "    30% {\n",
              "      border-color: transparent;\n",
              "      border-left-color: var(--fill-color);\n",
              "      border-top-color: var(--fill-color);\n",
              "      border-right-color: var(--fill-color);\n",
              "    }\n",
              "    40% {\n",
              "      border-color: transparent;\n",
              "      border-right-color: var(--fill-color);\n",
              "      border-top-color: var(--fill-color);\n",
              "    }\n",
              "    60% {\n",
              "      border-color: transparent;\n",
              "      border-right-color: var(--fill-color);\n",
              "    }\n",
              "    80% {\n",
              "      border-color: transparent;\n",
              "      border-right-color: var(--fill-color);\n",
              "      border-bottom-color: var(--fill-color);\n",
              "    }\n",
              "    90% {\n",
              "      border-color: transparent;\n",
              "      border-bottom-color: var(--fill-color);\n",
              "    }\n",
              "  }\n",
              "</style>\n",
              "\n",
              "  <script>\n",
              "    async function quickchart(key) {\n",
              "      const quickchartButtonEl =\n",
              "        document.querySelector('#' + key + ' button');\n",
              "      quickchartButtonEl.disabled = true;  // To prevent multiple clicks.\n",
              "      quickchartButtonEl.classList.add('colab-df-spinner');\n",
              "      try {\n",
              "        const charts = await google.colab.kernel.invokeFunction(\n",
              "            'suggestCharts', [key], {});\n",
              "      } catch (error) {\n",
              "        console.error('Error during call to suggestCharts:', error);\n",
              "      }\n",
              "      quickchartButtonEl.classList.remove('colab-df-spinner');\n",
              "      quickchartButtonEl.classList.add('colab-df-quickchart-complete');\n",
              "    }\n",
              "    (() => {\n",
              "      let quickchartButtonEl =\n",
              "        document.querySelector('#df-239e6c77-7f21-43e9-93c2-8904aa28ab15 button');\n",
              "      quickchartButtonEl.style.display =\n",
              "        google.colab.kernel.accessAllowed ? 'block' : 'none';\n",
              "    })();\n",
              "  </script>\n",
              "</div>\n",
              "    </div>\n",
              "  </div>\n"
            ]
          },
          "metadata": {},
          "execution_count": 34
        }
      ]
    },
    {
      "cell_type": "code",
      "source": [
        "model = Word2Vec(new_df[0], window=3, workers=1)\n",
        "\n",
        "word_vectors=model.wv\n",
        "vocabs = word_vectors.index_to_key\n",
        "word_vectors_list = [word_vectors[v] for v in vocabs]"
      ],
      "metadata": {
        "id": "ovcWqOb2UDPv"
      },
      "execution_count": null,
      "outputs": []
    },
    {
      "cell_type": "code",
      "source": [
        "model.wv.vectors.shape"
      ],
      "metadata": {
        "colab": {
          "base_uri": "https://localhost:8080/"
        },
        "id": "LddjGxxBUDNZ",
        "outputId": "8c191af6-92d7-49a3-e5a8-cbbbb0cd8221"
      },
      "execution_count": null,
      "outputs": [
        {
          "output_type": "execute_result",
          "data": {
            "text/plain": [
              "(1667, 100)"
            ]
          },
          "metadata": {},
          "execution_count": 37
        }
      ]
    },
    {
      "cell_type": "code",
      "source": [
        "import numpy as np"
      ],
      "metadata": {
        "id": "17rL4uYOUPfn"
      },
      "execution_count": null,
      "outputs": []
    },
    {
      "cell_type": "code",
      "source": [
        "def get_document_vectors(document_list):\n",
        "    document_embedding_list = []\n",
        "\n",
        "    # 각 문서에 대해서\n",
        "    for line in document_list:\n",
        "        doc2vec = None\n",
        "        count = 0\n",
        "        for word in line:\n",
        "            if word in model.wv:\n",
        "              count += 1\n",
        "\n",
        "              # 해당 문서에 있는 모든 단어들의 벡터값 더하기\n",
        "              if doc2vec is None:\n",
        "                doc2vec = model.wv.get_vector(word)\n",
        "              else:\n",
        "                doc2vec = doc2vec + model.wv.get_vector(word)\n",
        "\n",
        "        if doc2vec is not None:\n",
        "            # 단어 벡터를 모두 더한 벡터의 값을 문서 길이로 나누기\n",
        "            doc2vec = doc2vec / count\n",
        "            document_embedding_list.append(doc2vec)\n",
        "\n",
        "        # 아무 값도 들어있지 않는 경우 결측치 처리를 위해 NaN 추가\n",
        "        if doc2vec is None:\n",
        "            document_embedding_list.append(np.nan)\n",
        "\n",
        "\n",
        "    # 각 문서에 대한 문서 벡터 리스트를 리턴\n",
        "    return document_embedding_list\n",
        "\n",
        "document_embedding_list = get_document_vectors(new_df[0])"
      ],
      "metadata": {
        "id": "ck-duRBlUDLH"
      },
      "execution_count": null,
      "outputs": []
    },
    {
      "cell_type": "code",
      "source": [
        "document_embedding_list = get_document_vectors(new_df[0])"
      ],
      "metadata": {
        "id": "L2x2TzdvUDI3"
      },
      "execution_count": null,
      "outputs": []
    },
    {
      "cell_type": "code",
      "source": [
        "len(document_embedding_list)"
      ],
      "metadata": {
        "colab": {
          "base_uri": "https://localhost:8080/"
        },
        "id": "T6lGvKqKUDGb",
        "outputId": "e36148da-8e73-4230-9623-71cafc434445"
      },
      "execution_count": null,
      "outputs": [
        {
          "output_type": "execute_result",
          "data": {
            "text/plain": [
              "4363"
            ]
          },
          "metadata": {},
          "execution_count": 40
        }
      ]
    },
    {
      "cell_type": "code",
      "source": [
        "df['게시물제목'] = document_embedding_list"
      ],
      "metadata": {
        "id": "LAphAp0LUDED"
      },
      "execution_count": null,
      "outputs": []
    },
    {
      "cell_type": "code",
      "source": [
        "df = df.dropna()"
      ],
      "metadata": {
        "id": "B2d6pVFpVSrO"
      },
      "execution_count": null,
      "outputs": []
    },
    {
      "cell_type": "code",
      "source": [
        "df = df.reset_index(drop = True) # df에 저장시켜줘야 정보가 저장됨."
      ],
      "metadata": {
        "id": "MPb0zoJ4VTn0"
      },
      "execution_count": null,
      "outputs": []
    },
    {
      "cell_type": "code",
      "source": [
        "df.info()"
      ],
      "metadata": {
        "colab": {
          "base_uri": "https://localhost:8080/"
        },
        "id": "ocUAX6X_Xrf9",
        "outputId": "2eb44629-d2d6-4031-ba17-1e93d97db8c8"
      },
      "execution_count": null,
      "outputs": [
        {
          "output_type": "stream",
          "name": "stdout",
          "text": [
            "<class 'pandas.core.frame.DataFrame'>\n",
            "RangeIndex: 4296 entries, 0 to 4295\n",
            "Data columns (total 19 columns):\n",
            " #   Column           Non-Null Count  Dtype         \n",
            "---  ------           --------------  -----         \n",
            " 0   NO               4296 non-null   int64         \n",
            " 1   플랫폼              4296 non-null   int64         \n",
            " 2   검색어(뉴스,증권뉴스등)    4296 non-null   int64         \n",
            " 3   게시물주소            4296 non-null   object        \n",
            " 4   게시물제목            4296 non-null   object        \n",
            " 5   게시물등록일           4296 non-null   datetime64[ns]\n",
            " 6   게시물내용            4296 non-null   object        \n",
            " 7   언론사명             4296 non-null   object        \n",
            " 8   뉴스주소             4296 non-null   object        \n",
            " 9   뉴스제목             4296 non-null   object        \n",
            " 10  뉴스내용_정제전         4296 non-null   object        \n",
            " 11  뉴스내용_정제후         4296 non-null   object        \n",
            " 12  뉴스내용_불용어제거       4296 non-null   object        \n",
            " 13  유사도_정제전          4296 non-null   float64       \n",
            " 14  유사도_정제후          4296 non-null   float64       \n",
            " 15  비교(정제전vs정제후)     4296 non-null   float64       \n",
            " 16  유사도_불용어제거        4296 non-null   float64       \n",
            " 17  비교(정제후vs불용어처리후)  4296 non-null   float64       \n",
            " 18  similarity       4296 non-null   int64         \n",
            "dtypes: datetime64[ns](1), float64(5), int64(4), object(9)\n",
            "memory usage: 637.8+ KB\n"
          ]
        }
      ]
    },
    {
      "cell_type": "code",
      "source": [
        "sns_vector = []\n",
        "\n",
        "for i in df['게시물제목']:\n",
        "  sum = 0\n",
        "\n",
        "  for j in i:\n",
        "    sum += j\n",
        "\n",
        "  sns_vector.append(sum/100)"
      ],
      "metadata": {
        "id": "IgNcuCkVUC-_"
      },
      "execution_count": null,
      "outputs": []
    },
    {
      "cell_type": "code",
      "source": [
        "df['게시물제목'] = sns_vector"
      ],
      "metadata": {
        "id": "BI3QxGCxUC8X"
      },
      "execution_count": null,
      "outputs": []
    },
    {
      "cell_type": "markdown",
      "source": [
        "뉴스제목"
      ],
      "metadata": {
        "id": "o214A-LyX3GV"
      }
    },
    {
      "cell_type": "code",
      "source": [
        "df['뉴스제목'] = df['뉴스제목'].str.replace('[^ㄱ-ㅎ ㅏ-ㅣ 가-힝]', '')"
      ],
      "metadata": {
        "colab": {
          "base_uri": "https://localhost:8080/"
        },
        "id": "vAqEJIUsX1tt",
        "outputId": "77f1fa95-8e32-40cb-ae9c-5e1180e2b511"
      },
      "execution_count": null,
      "outputs": [
        {
          "output_type": "stream",
          "name": "stderr",
          "text": [
            "<ipython-input-62-92bf3f27eba1>:1: FutureWarning: The default value of regex will change from True to False in a future version.\n",
            "  df['뉴스제목'] = df['뉴스제목'].str.replace('[^ㄱ-ㅎ ㅏ-ㅣ 가-힝]', '')\n"
          ]
        }
      ]
    },
    {
      "cell_type": "code",
      "source": [
        "df['뉴스제목']"
      ],
      "metadata": {
        "colab": {
          "base_uri": "https://localhost:8080/"
        },
        "id": "zclz1hPvX1rV",
        "outputId": "8cdc39b3-57db-4b7e-cbb7-4a4bab6c41e3"
      },
      "execution_count": null,
      "outputs": [
        {
          "output_type": "execute_result",
          "data": {
            "text/plain": [
              "0       검찰 아태협 회장 경기도 보조금 억 횡령해 생활비유흥비 사용  아주경제\n",
              "1                       쉽지 않네글로벌 투자유치 역풍 맞은 유니콘\n",
              "2            기대 더 커진다 올리패스 내년 초 비마약성 진통제 중간값 발표\n",
              "3                 나이트에 쥴리 대 재판쥴리 목격자 언급 추미애 불송치\n",
              "4                        농민이 살아야 대한민국 먹거리가 풍부해져\n",
              "                         ...                   \n",
              "4291    단독 손흥민 부친 손웅정 삼류선수였던 나 그래서 아들 정반대로 가르쳤다\n",
              "4292              사설 화물연대 협상 타결 안전운임 완전제도화 이어져야\n",
              "4293              한동훈 안경 어디 거 모델 포스 남다른 패션 또 화제\n",
              "4294              자 모양 강원 고성 화진포에 숨은 화진팔경 보러오세요\n",
              "4295                      악재의 끝은 어디숨겨진 부채 조원 넘어\n",
              "Name: 뉴스제목, Length: 4296, dtype: object"
            ]
          },
          "metadata": {},
          "execution_count": 63
        }
      ]
    },
    {
      "cell_type": "code",
      "source": [
        "sns_token = []\n",
        "for i in df['뉴스제목']:\n",
        "  sns_token.append(tokenize(i))"
      ],
      "metadata": {
        "id": "SrkU7gzAX1oF"
      },
      "execution_count": null,
      "outputs": []
    },
    {
      "cell_type": "code",
      "source": [
        "new_df = pd.DataFrame(sns_token)\n",
        "new_df"
      ],
      "metadata": {
        "colab": {
          "base_uri": "https://localhost:8080/",
          "height": 423
        },
        "id": "OnYOOtn0YXGt",
        "outputId": "8ac72aef-6179-4556-da83-e44efbb6602d"
      },
      "execution_count": null,
      "outputs": [
        {
          "output_type": "execute_result",
          "data": {
            "text/plain": [
              "                                                      0\n",
              "0     [검찰, 아태, 협, 회장, 경기도, 보조금, 억, 횡령, 해, 생활비, 유흥비, ...\n",
              "1              [쉽, 지, 않, 네, 글로벌, 투자, 유치, 역풍, 맞, 은, 유니콘]\n",
              "2     [기대, 더, 커진다, 올리, 패스, 내년, 초, 비, 마약, 성, 진통제, 중간값...\n",
              "3          [나이트, 에, 쥴리, 대, 재판, 쥴리, 목격자, 언급, 추미애, 불, 송치]\n",
              "4                  [농민, 이, 살, 아야, 대한민국, 먹거리, 가, 풍부, 해져]\n",
              "...                                                 ...\n",
              "4291  [단독, 손흥민, 부친, 손웅정, 삼류, 선수, 였, 던, 나, 그래서, 아들, 정...\n",
              "4292  [사설, 화물, 연대, 협상, 타결, 안전, 운임, 완전, 제도, 화, 이, 어, 져야]\n",
              "4293           [한동훈, 안경, 어디, 거, 모델, 포스, 남다른, 패션, 또, 화제]\n",
              "4294  [자, 모양, 강원, 고성, 화, 진포, 에, 숨, 은, 화진, 팔경, 보, 러, ...\n",
              "4295               [악재, 의, 끝, 은, 어디, 숨겨진, 부채, 조원, 넘, 어]\n",
              "\n",
              "[4296 rows x 1 columns]"
            ],
            "text/html": [
              "\n",
              "  <div id=\"df-88a49c8d-debb-4c7c-88a9-ed43e5523ac6\" class=\"colab-df-container\">\n",
              "    <div>\n",
              "<style scoped>\n",
              "    .dataframe tbody tr th:only-of-type {\n",
              "        vertical-align: middle;\n",
              "    }\n",
              "\n",
              "    .dataframe tbody tr th {\n",
              "        vertical-align: top;\n",
              "    }\n",
              "\n",
              "    .dataframe thead th {\n",
              "        text-align: right;\n",
              "    }\n",
              "</style>\n",
              "<table border=\"1\" class=\"dataframe\">\n",
              "  <thead>\n",
              "    <tr style=\"text-align: right;\">\n",
              "      <th></th>\n",
              "      <th>0</th>\n",
              "    </tr>\n",
              "  </thead>\n",
              "  <tbody>\n",
              "    <tr>\n",
              "      <th>0</th>\n",
              "      <td>[검찰, 아태, 협, 회장, 경기도, 보조금, 억, 횡령, 해, 생활비, 유흥비, ...</td>\n",
              "    </tr>\n",
              "    <tr>\n",
              "      <th>1</th>\n",
              "      <td>[쉽, 지, 않, 네, 글로벌, 투자, 유치, 역풍, 맞, 은, 유니콘]</td>\n",
              "    </tr>\n",
              "    <tr>\n",
              "      <th>2</th>\n",
              "      <td>[기대, 더, 커진다, 올리, 패스, 내년, 초, 비, 마약, 성, 진통제, 중간값...</td>\n",
              "    </tr>\n",
              "    <tr>\n",
              "      <th>3</th>\n",
              "      <td>[나이트, 에, 쥴리, 대, 재판, 쥴리, 목격자, 언급, 추미애, 불, 송치]</td>\n",
              "    </tr>\n",
              "    <tr>\n",
              "      <th>4</th>\n",
              "      <td>[농민, 이, 살, 아야, 대한민국, 먹거리, 가, 풍부, 해져]</td>\n",
              "    </tr>\n",
              "    <tr>\n",
              "      <th>...</th>\n",
              "      <td>...</td>\n",
              "    </tr>\n",
              "    <tr>\n",
              "      <th>4291</th>\n",
              "      <td>[단독, 손흥민, 부친, 손웅정, 삼류, 선수, 였, 던, 나, 그래서, 아들, 정...</td>\n",
              "    </tr>\n",
              "    <tr>\n",
              "      <th>4292</th>\n",
              "      <td>[사설, 화물, 연대, 협상, 타결, 안전, 운임, 완전, 제도, 화, 이, 어, 져야]</td>\n",
              "    </tr>\n",
              "    <tr>\n",
              "      <th>4293</th>\n",
              "      <td>[한동훈, 안경, 어디, 거, 모델, 포스, 남다른, 패션, 또, 화제]</td>\n",
              "    </tr>\n",
              "    <tr>\n",
              "      <th>4294</th>\n",
              "      <td>[자, 모양, 강원, 고성, 화, 진포, 에, 숨, 은, 화진, 팔경, 보, 러, ...</td>\n",
              "    </tr>\n",
              "    <tr>\n",
              "      <th>4295</th>\n",
              "      <td>[악재, 의, 끝, 은, 어디, 숨겨진, 부채, 조원, 넘, 어]</td>\n",
              "    </tr>\n",
              "  </tbody>\n",
              "</table>\n",
              "<p>4296 rows × 1 columns</p>\n",
              "</div>\n",
              "    <div class=\"colab-df-buttons\">\n",
              "\n",
              "  <div class=\"colab-df-container\">\n",
              "    <button class=\"colab-df-convert\" onclick=\"convertToInteractive('df-88a49c8d-debb-4c7c-88a9-ed43e5523ac6')\"\n",
              "            title=\"Convert this dataframe to an interactive table.\"\n",
              "            style=\"display:none;\">\n",
              "\n",
              "  <svg xmlns=\"http://www.w3.org/2000/svg\" height=\"24px\" viewBox=\"0 -960 960 960\">\n",
              "    <path d=\"M120-120v-720h720v720H120Zm60-500h600v-160H180v160Zm220 220h160v-160H400v160Zm0 220h160v-160H400v160ZM180-400h160v-160H180v160Zm440 0h160v-160H620v160ZM180-180h160v-160H180v160Zm440 0h160v-160H620v160Z\"/>\n",
              "  </svg>\n",
              "    </button>\n",
              "\n",
              "  <style>\n",
              "    .colab-df-container {\n",
              "      display:flex;\n",
              "      gap: 12px;\n",
              "    }\n",
              "\n",
              "    .colab-df-convert {\n",
              "      background-color: #E8F0FE;\n",
              "      border: none;\n",
              "      border-radius: 50%;\n",
              "      cursor: pointer;\n",
              "      display: none;\n",
              "      fill: #1967D2;\n",
              "      height: 32px;\n",
              "      padding: 0 0 0 0;\n",
              "      width: 32px;\n",
              "    }\n",
              "\n",
              "    .colab-df-convert:hover {\n",
              "      background-color: #E2EBFA;\n",
              "      box-shadow: 0px 1px 2px rgba(60, 64, 67, 0.3), 0px 1px 3px 1px rgba(60, 64, 67, 0.15);\n",
              "      fill: #174EA6;\n",
              "    }\n",
              "\n",
              "    .colab-df-buttons div {\n",
              "      margin-bottom: 4px;\n",
              "    }\n",
              "\n",
              "    [theme=dark] .colab-df-convert {\n",
              "      background-color: #3B4455;\n",
              "      fill: #D2E3FC;\n",
              "    }\n",
              "\n",
              "    [theme=dark] .colab-df-convert:hover {\n",
              "      background-color: #434B5C;\n",
              "      box-shadow: 0px 1px 3px 1px rgba(0, 0, 0, 0.15);\n",
              "      filter: drop-shadow(0px 1px 2px rgba(0, 0, 0, 0.3));\n",
              "      fill: #FFFFFF;\n",
              "    }\n",
              "  </style>\n",
              "\n",
              "    <script>\n",
              "      const buttonEl =\n",
              "        document.querySelector('#df-88a49c8d-debb-4c7c-88a9-ed43e5523ac6 button.colab-df-convert');\n",
              "      buttonEl.style.display =\n",
              "        google.colab.kernel.accessAllowed ? 'block' : 'none';\n",
              "\n",
              "      async function convertToInteractive(key) {\n",
              "        const element = document.querySelector('#df-88a49c8d-debb-4c7c-88a9-ed43e5523ac6');\n",
              "        const dataTable =\n",
              "          await google.colab.kernel.invokeFunction('convertToInteractive',\n",
              "                                                    [key], {});\n",
              "        if (!dataTable) return;\n",
              "\n",
              "        const docLinkHtml = 'Like what you see? Visit the ' +\n",
              "          '<a target=\"_blank\" href=https://colab.research.google.com/notebooks/data_table.ipynb>data table notebook</a>'\n",
              "          + ' to learn more about interactive tables.';\n",
              "        element.innerHTML = '';\n",
              "        dataTable['output_type'] = 'display_data';\n",
              "        await google.colab.output.renderOutput(dataTable, element);\n",
              "        const docLink = document.createElement('div');\n",
              "        docLink.innerHTML = docLinkHtml;\n",
              "        element.appendChild(docLink);\n",
              "      }\n",
              "    </script>\n",
              "  </div>\n",
              "\n",
              "\n",
              "<div id=\"df-24f2ec7a-4134-4784-a946-6dee7c2c58c9\">\n",
              "  <button class=\"colab-df-quickchart\" onclick=\"quickchart('df-24f2ec7a-4134-4784-a946-6dee7c2c58c9')\"\n",
              "            title=\"Suggest charts\"\n",
              "            style=\"display:none;\">\n",
              "\n",
              "<svg xmlns=\"http://www.w3.org/2000/svg\" height=\"24px\"viewBox=\"0 0 24 24\"\n",
              "     width=\"24px\">\n",
              "    <g>\n",
              "        <path d=\"M19 3H5c-1.1 0-2 .9-2 2v14c0 1.1.9 2 2 2h14c1.1 0 2-.9 2-2V5c0-1.1-.9-2-2-2zM9 17H7v-7h2v7zm4 0h-2V7h2v10zm4 0h-2v-4h2v4z\"/>\n",
              "    </g>\n",
              "</svg>\n",
              "  </button>\n",
              "\n",
              "<style>\n",
              "  .colab-df-quickchart {\n",
              "      --bg-color: #E8F0FE;\n",
              "      --fill-color: #1967D2;\n",
              "      --hover-bg-color: #E2EBFA;\n",
              "      --hover-fill-color: #174EA6;\n",
              "      --disabled-fill-color: #AAA;\n",
              "      --disabled-bg-color: #DDD;\n",
              "  }\n",
              "\n",
              "  [theme=dark] .colab-df-quickchart {\n",
              "      --bg-color: #3B4455;\n",
              "      --fill-color: #D2E3FC;\n",
              "      --hover-bg-color: #434B5C;\n",
              "      --hover-fill-color: #FFFFFF;\n",
              "      --disabled-bg-color: #3B4455;\n",
              "      --disabled-fill-color: #666;\n",
              "  }\n",
              "\n",
              "  .colab-df-quickchart {\n",
              "    background-color: var(--bg-color);\n",
              "    border: none;\n",
              "    border-radius: 50%;\n",
              "    cursor: pointer;\n",
              "    display: none;\n",
              "    fill: var(--fill-color);\n",
              "    height: 32px;\n",
              "    padding: 0;\n",
              "    width: 32px;\n",
              "  }\n",
              "\n",
              "  .colab-df-quickchart:hover {\n",
              "    background-color: var(--hover-bg-color);\n",
              "    box-shadow: 0 1px 2px rgba(60, 64, 67, 0.3), 0 1px 3px 1px rgba(60, 64, 67, 0.15);\n",
              "    fill: var(--button-hover-fill-color);\n",
              "  }\n",
              "\n",
              "  .colab-df-quickchart-complete:disabled,\n",
              "  .colab-df-quickchart-complete:disabled:hover {\n",
              "    background-color: var(--disabled-bg-color);\n",
              "    fill: var(--disabled-fill-color);\n",
              "    box-shadow: none;\n",
              "  }\n",
              "\n",
              "  .colab-df-spinner {\n",
              "    border: 2px solid var(--fill-color);\n",
              "    border-color: transparent;\n",
              "    border-bottom-color: var(--fill-color);\n",
              "    animation:\n",
              "      spin 1s steps(1) infinite;\n",
              "  }\n",
              "\n",
              "  @keyframes spin {\n",
              "    0% {\n",
              "      border-color: transparent;\n",
              "      border-bottom-color: var(--fill-color);\n",
              "      border-left-color: var(--fill-color);\n",
              "    }\n",
              "    20% {\n",
              "      border-color: transparent;\n",
              "      border-left-color: var(--fill-color);\n",
              "      border-top-color: var(--fill-color);\n",
              "    }\n",
              "    30% {\n",
              "      border-color: transparent;\n",
              "      border-left-color: var(--fill-color);\n",
              "      border-top-color: var(--fill-color);\n",
              "      border-right-color: var(--fill-color);\n",
              "    }\n",
              "    40% {\n",
              "      border-color: transparent;\n",
              "      border-right-color: var(--fill-color);\n",
              "      border-top-color: var(--fill-color);\n",
              "    }\n",
              "    60% {\n",
              "      border-color: transparent;\n",
              "      border-right-color: var(--fill-color);\n",
              "    }\n",
              "    80% {\n",
              "      border-color: transparent;\n",
              "      border-right-color: var(--fill-color);\n",
              "      border-bottom-color: var(--fill-color);\n",
              "    }\n",
              "    90% {\n",
              "      border-color: transparent;\n",
              "      border-bottom-color: var(--fill-color);\n",
              "    }\n",
              "  }\n",
              "</style>\n",
              "\n",
              "  <script>\n",
              "    async function quickchart(key) {\n",
              "      const quickchartButtonEl =\n",
              "        document.querySelector('#' + key + ' button');\n",
              "      quickchartButtonEl.disabled = true;  // To prevent multiple clicks.\n",
              "      quickchartButtonEl.classList.add('colab-df-spinner');\n",
              "      try {\n",
              "        const charts = await google.colab.kernel.invokeFunction(\n",
              "            'suggestCharts', [key], {});\n",
              "      } catch (error) {\n",
              "        console.error('Error during call to suggestCharts:', error);\n",
              "      }\n",
              "      quickchartButtonEl.classList.remove('colab-df-spinner');\n",
              "      quickchartButtonEl.classList.add('colab-df-quickchart-complete');\n",
              "    }\n",
              "    (() => {\n",
              "      let quickchartButtonEl =\n",
              "        document.querySelector('#df-24f2ec7a-4134-4784-a946-6dee7c2c58c9 button');\n",
              "      quickchartButtonEl.style.display =\n",
              "        google.colab.kernel.accessAllowed ? 'block' : 'none';\n",
              "    })();\n",
              "  </script>\n",
              "</div>\n",
              "    </div>\n",
              "  </div>\n"
            ]
          },
          "metadata": {},
          "execution_count": 65
        }
      ]
    },
    {
      "cell_type": "code",
      "source": [
        "model = Word2Vec(new_df[0], window=3, workers=1)"
      ],
      "metadata": {
        "id": "Lsd47cywX1bN"
      },
      "execution_count": null,
      "outputs": []
    },
    {
      "cell_type": "code",
      "source": [
        "word_vectors=model.wv\n",
        "vocabs = word_vectors.index_to_key\n",
        "word_vectors_list = [word_vectors[v] for v in vocabs]"
      ],
      "metadata": {
        "id": "ISyjIc3tX1ZO"
      },
      "execution_count": null,
      "outputs": []
    },
    {
      "cell_type": "code",
      "source": [
        "model.wv.vectors.shape"
      ],
      "metadata": {
        "colab": {
          "base_uri": "https://localhost:8080/"
        },
        "id": "QHhUOZlyX1Wd",
        "outputId": "8049d8f8-14a5-4d35-b47d-892352ef3cb7"
      },
      "execution_count": null,
      "outputs": [
        {
          "output_type": "execute_result",
          "data": {
            "text/plain": [
              "(1806, 100)"
            ]
          },
          "metadata": {},
          "execution_count": 68
        }
      ]
    },
    {
      "cell_type": "code",
      "source": [
        "def get_document_vectors(document_list):\n",
        "    document_embedding_list = []\n",
        "\n",
        "    # 각 문서에 대해서\n",
        "    for line in document_list:\n",
        "        doc2vec = None\n",
        "        count = 0\n",
        "        for word in line:\n",
        "            if word in model.wv:\n",
        "              count += 1\n",
        "              # 해당 문서에 있는 모든 단어들의 벡터값을 더한다.\n",
        "              if doc2vec is None:\n",
        "                doc2vec = model.wv.get_vector(word)\n",
        "              else:\n",
        "                doc2vec = doc2vec + model.wv.get_vector(word)\n",
        "\n",
        "        if doc2vec is not None:\n",
        "            # 단어 벡터를 모두 더한 벡터의 값을 문서 길이로 나눠준다.\n",
        "            doc2vec = doc2vec / count\n",
        "            document_embedding_list.append(doc2vec)\n",
        "\n",
        "        if doc2vec is None:\n",
        "            document_embedding_list.append(np.nan)\n",
        "\n",
        "\n",
        "    # 각 문서에 대한 문서 벡터 리스트를 리턴\n",
        "    return document_embedding_list"
      ],
      "metadata": {
        "id": "dAZIYAbWX1Rg"
      },
      "execution_count": null,
      "outputs": []
    },
    {
      "cell_type": "code",
      "source": [
        "document_embedding_list = get_document_vectors(new_df[0])"
      ],
      "metadata": {
        "id": "fB3Z7EdiX1PN"
      },
      "execution_count": null,
      "outputs": []
    },
    {
      "cell_type": "code",
      "source": [
        "df = df.reset_index(drop = True) # df에 저장시켜줘야 정보가 저장됨."
      ],
      "metadata": {
        "id": "OoDXmMyXYOXG"
      },
      "execution_count": null,
      "outputs": []
    },
    {
      "cell_type": "code",
      "source": [
        "len(document_embedding_list)"
      ],
      "metadata": {
        "colab": {
          "base_uri": "https://localhost:8080/"
        },
        "id": "BO6KC8EIX1M9",
        "outputId": "0af23f03-7999-4152-c1a7-7be5dccca992"
      },
      "execution_count": null,
      "outputs": [
        {
          "output_type": "execute_result",
          "data": {
            "text/plain": [
              "4296"
            ]
          },
          "metadata": {},
          "execution_count": 72
        }
      ]
    },
    {
      "cell_type": "code",
      "source": [
        "df['뉴스제목'] = document_embedding_list"
      ],
      "metadata": {
        "id": "8wzNWyOFYIH9"
      },
      "execution_count": null,
      "outputs": []
    },
    {
      "cell_type": "code",
      "source": [
        "df = df.dropna()"
      ],
      "metadata": {
        "id": "a3i0unj9fFLO"
      },
      "execution_count": null,
      "outputs": []
    },
    {
      "cell_type": "code",
      "source": [
        "df = df.reset_index(drop = True) # df에 저장시켜줘야 정보가 저장됨."
      ],
      "metadata": {
        "id": "2NebzG0EfFLO"
      },
      "execution_count": null,
      "outputs": []
    },
    {
      "cell_type": "code",
      "source": [
        "sns_vector = []\n",
        "\n",
        "for i in df['뉴스제목']:\n",
        "  sum = 0\n",
        "\n",
        "  for j in i:\n",
        "    sum += j\n",
        "\n",
        "  sns_vector.append(sum/100)"
      ],
      "metadata": {
        "id": "F1YHantme9v9"
      },
      "execution_count": null,
      "outputs": []
    },
    {
      "cell_type": "code",
      "source": [
        "df['뉴스제목'] = sns_vector"
      ],
      "metadata": {
        "id": "w4SuG_Xee9q9"
      },
      "execution_count": null,
      "outputs": []
    },
    {
      "cell_type": "code",
      "source": [
        "from datetime import time"
      ],
      "metadata": {
        "id": "9poqQK-ie9mT"
      },
      "execution_count": null,
      "outputs": []
    },
    {
      "cell_type": "code",
      "source": [
        "df['게시물등록일'] = df['게시물등록일'].apply(lambda x :x.strftime('%Y%m%d'))\n",
        "df['게시물등록일'] = df['게시물등록일'].astype(int)"
      ],
      "metadata": {
        "id": "VxyZGex5e9jp"
      },
      "execution_count": null,
      "outputs": []
    },
    {
      "cell_type": "code",
      "source": [
        "df['게시물등록일']"
      ],
      "metadata": {
        "colab": {
          "base_uri": "https://localhost:8080/"
        },
        "id": "hZ2soe0Re9hF",
        "outputId": "d043e979-fe25-4fdf-f571-a7f9c714cd65"
      },
      "execution_count": null,
      "outputs": [
        {
          "output_type": "execute_result",
          "data": {
            "text/plain": [
              "0       20221111\n",
              "1       20220627\n",
              "2       20221116\n",
              "3       20220914\n",
              "4       20221114\n",
              "          ...   \n",
              "4244    20220519\n",
              "4245    20220615\n",
              "4246    20220416\n",
              "4247    20220325\n",
              "4248    20221115\n",
              "Name: 게시물등록일, Length: 4249, dtype: int64"
            ]
          },
          "metadata": {},
          "execution_count": 81
        }
      ]
    },
    {
      "cell_type": "markdown",
      "source": [
        "게시물내용"
      ],
      "metadata": {
        "id": "6gPcsbaWYuVF"
      }
    },
    {
      "cell_type": "code",
      "source": [
        "df['게시물내용'] = df['게시물내용'].str.replace('[^ㄱ-ㅎ ㅏ-ㅣ 가-힝]', '')"
      ],
      "metadata": {
        "colab": {
          "base_uri": "https://localhost:8080/"
        },
        "id": "MDQEtXLufXoA",
        "outputId": "1a862e52-db72-4c2f-89f7-9070c3136c67"
      },
      "execution_count": null,
      "outputs": [
        {
          "output_type": "stream",
          "name": "stderr",
          "text": [
            "<ipython-input-82-4c018bc6f0ec>:1: FutureWarning: The default value of regex will change from True to False in a future version.\n",
            "  df['게시물내용'] = df['게시물내용'].str.replace('[^ㄱ-ㅎ ㅏ-ㅣ 가-힝]', '')\n"
          ]
        }
      ]
    },
    {
      "cell_type": "code",
      "source": [
        "# 토큰화 함수 생성\n",
        "def tokenize(doc):\n",
        "  return [mecab.morphs(doc)]\n",
        "\n",
        "sns_token = []\n",
        "for i in df['게시물내용']:\n",
        "  sns_token.append(tokenize(i))"
      ],
      "metadata": {
        "id": "r68FhuB3fXif"
      },
      "execution_count": null,
      "outputs": []
    },
    {
      "cell_type": "code",
      "source": [
        "new_df = pd.DataFrame(sns_token)\n",
        "new_df"
      ],
      "metadata": {
        "colab": {
          "base_uri": "https://localhost:8080/",
          "height": 423
        },
        "id": "R7vIpMqjfXfl",
        "outputId": "d702fe0c-fc11-41da-c7ef-e8c48d39fa78"
      },
      "execution_count": null,
      "outputs": [
        {
          "output_type": "execute_result",
          "data": {
            "text/plain": [
              "                                                      0\n",
              "0     [검찰, 아태, 협, 회장, 경기도, 보조금, 억, 횡령, 해, 생활비, 유흥비, ...\n",
              "1     [쉽, 지, 않, 네, 글로벌, 투자, 유치, 역풍, 맞, 은, 유니콘, 못, 하,...\n",
              "2     [올리, 패스, 내년, 초, 비, 마약, 성, 진통제, 중간값, 발표, 출처, 이,...\n",
              "3     [이, 데일리, 김화빈, 기자, 유튜브, 채널, 에, 출연, 해, 과거, 한, 나이...\n",
              "4     [금산군, 의회, 김기윤, 산업, 건설, 위원장, 인터뷰, 가, 충청, 투데이, 지...\n",
              "...                                                 ...\n",
              "4244  [조, 회수, 회, 손웅정, 감독, 은, 최근, 스포츠, 경향, 과, 의, 단독, ...\n",
              "4245  [조, 회수, 회, 한겨레, 신문, 년, 월, 일자, 지평, 견문, 구독자, 명, ...\n",
              "4246  [조, 회수, 회, 머니, 투데이, 기자, 머니, 투데이, 차, 유채, 기자, 머니...\n",
              "4247  [조, 회수, 회, 고성, 여행, 고, 성경, 화, 진포, 강원, 화, 진포, 화,...\n",
              "4248  [조, 회수, 회, 따라와, 아들, 증여, 계좌, 공개, 따라와, 주식, 투자, 구...\n",
              "\n",
              "[4249 rows x 1 columns]"
            ],
            "text/html": [
              "\n",
              "  <div id=\"df-a84626ea-3e05-48e0-b06b-4fafa2780b29\" class=\"colab-df-container\">\n",
              "    <div>\n",
              "<style scoped>\n",
              "    .dataframe tbody tr th:only-of-type {\n",
              "        vertical-align: middle;\n",
              "    }\n",
              "\n",
              "    .dataframe tbody tr th {\n",
              "        vertical-align: top;\n",
              "    }\n",
              "\n",
              "    .dataframe thead th {\n",
              "        text-align: right;\n",
              "    }\n",
              "</style>\n",
              "<table border=\"1\" class=\"dataframe\">\n",
              "  <thead>\n",
              "    <tr style=\"text-align: right;\">\n",
              "      <th></th>\n",
              "      <th>0</th>\n",
              "    </tr>\n",
              "  </thead>\n",
              "  <tbody>\n",
              "    <tr>\n",
              "      <th>0</th>\n",
              "      <td>[검찰, 아태, 협, 회장, 경기도, 보조금, 억, 횡령, 해, 생활비, 유흥비, ...</td>\n",
              "    </tr>\n",
              "    <tr>\n",
              "      <th>1</th>\n",
              "      <td>[쉽, 지, 않, 네, 글로벌, 투자, 유치, 역풍, 맞, 은, 유니콘, 못, 하,...</td>\n",
              "    </tr>\n",
              "    <tr>\n",
              "      <th>2</th>\n",
              "      <td>[올리, 패스, 내년, 초, 비, 마약, 성, 진통제, 중간값, 발표, 출처, 이,...</td>\n",
              "    </tr>\n",
              "    <tr>\n",
              "      <th>3</th>\n",
              "      <td>[이, 데일리, 김화빈, 기자, 유튜브, 채널, 에, 출연, 해, 과거, 한, 나이...</td>\n",
              "    </tr>\n",
              "    <tr>\n",
              "      <th>4</th>\n",
              "      <td>[금산군, 의회, 김기윤, 산업, 건설, 위원장, 인터뷰, 가, 충청, 투데이, 지...</td>\n",
              "    </tr>\n",
              "    <tr>\n",
              "      <th>...</th>\n",
              "      <td>...</td>\n",
              "    </tr>\n",
              "    <tr>\n",
              "      <th>4244</th>\n",
              "      <td>[조, 회수, 회, 손웅정, 감독, 은, 최근, 스포츠, 경향, 과, 의, 단독, ...</td>\n",
              "    </tr>\n",
              "    <tr>\n",
              "      <th>4245</th>\n",
              "      <td>[조, 회수, 회, 한겨레, 신문, 년, 월, 일자, 지평, 견문, 구독자, 명, ...</td>\n",
              "    </tr>\n",
              "    <tr>\n",
              "      <th>4246</th>\n",
              "      <td>[조, 회수, 회, 머니, 투데이, 기자, 머니, 투데이, 차, 유채, 기자, 머니...</td>\n",
              "    </tr>\n",
              "    <tr>\n",
              "      <th>4247</th>\n",
              "      <td>[조, 회수, 회, 고성, 여행, 고, 성경, 화, 진포, 강원, 화, 진포, 화,...</td>\n",
              "    </tr>\n",
              "    <tr>\n",
              "      <th>4248</th>\n",
              "      <td>[조, 회수, 회, 따라와, 아들, 증여, 계좌, 공개, 따라와, 주식, 투자, 구...</td>\n",
              "    </tr>\n",
              "  </tbody>\n",
              "</table>\n",
              "<p>4249 rows × 1 columns</p>\n",
              "</div>\n",
              "    <div class=\"colab-df-buttons\">\n",
              "\n",
              "  <div class=\"colab-df-container\">\n",
              "    <button class=\"colab-df-convert\" onclick=\"convertToInteractive('df-a84626ea-3e05-48e0-b06b-4fafa2780b29')\"\n",
              "            title=\"Convert this dataframe to an interactive table.\"\n",
              "            style=\"display:none;\">\n",
              "\n",
              "  <svg xmlns=\"http://www.w3.org/2000/svg\" height=\"24px\" viewBox=\"0 -960 960 960\">\n",
              "    <path d=\"M120-120v-720h720v720H120Zm60-500h600v-160H180v160Zm220 220h160v-160H400v160Zm0 220h160v-160H400v160ZM180-400h160v-160H180v160Zm440 0h160v-160H620v160ZM180-180h160v-160H180v160Zm440 0h160v-160H620v160Z\"/>\n",
              "  </svg>\n",
              "    </button>\n",
              "\n",
              "  <style>\n",
              "    .colab-df-container {\n",
              "      display:flex;\n",
              "      gap: 12px;\n",
              "    }\n",
              "\n",
              "    .colab-df-convert {\n",
              "      background-color: #E8F0FE;\n",
              "      border: none;\n",
              "      border-radius: 50%;\n",
              "      cursor: pointer;\n",
              "      display: none;\n",
              "      fill: #1967D2;\n",
              "      height: 32px;\n",
              "      padding: 0 0 0 0;\n",
              "      width: 32px;\n",
              "    }\n",
              "\n",
              "    .colab-df-convert:hover {\n",
              "      background-color: #E2EBFA;\n",
              "      box-shadow: 0px 1px 2px rgba(60, 64, 67, 0.3), 0px 1px 3px 1px rgba(60, 64, 67, 0.15);\n",
              "      fill: #174EA6;\n",
              "    }\n",
              "\n",
              "    .colab-df-buttons div {\n",
              "      margin-bottom: 4px;\n",
              "    }\n",
              "\n",
              "    [theme=dark] .colab-df-convert {\n",
              "      background-color: #3B4455;\n",
              "      fill: #D2E3FC;\n",
              "    }\n",
              "\n",
              "    [theme=dark] .colab-df-convert:hover {\n",
              "      background-color: #434B5C;\n",
              "      box-shadow: 0px 1px 3px 1px rgba(0, 0, 0, 0.15);\n",
              "      filter: drop-shadow(0px 1px 2px rgba(0, 0, 0, 0.3));\n",
              "      fill: #FFFFFF;\n",
              "    }\n",
              "  </style>\n",
              "\n",
              "    <script>\n",
              "      const buttonEl =\n",
              "        document.querySelector('#df-a84626ea-3e05-48e0-b06b-4fafa2780b29 button.colab-df-convert');\n",
              "      buttonEl.style.display =\n",
              "        google.colab.kernel.accessAllowed ? 'block' : 'none';\n",
              "\n",
              "      async function convertToInteractive(key) {\n",
              "        const element = document.querySelector('#df-a84626ea-3e05-48e0-b06b-4fafa2780b29');\n",
              "        const dataTable =\n",
              "          await google.colab.kernel.invokeFunction('convertToInteractive',\n",
              "                                                    [key], {});\n",
              "        if (!dataTable) return;\n",
              "\n",
              "        const docLinkHtml = 'Like what you see? Visit the ' +\n",
              "          '<a target=\"_blank\" href=https://colab.research.google.com/notebooks/data_table.ipynb>data table notebook</a>'\n",
              "          + ' to learn more about interactive tables.';\n",
              "        element.innerHTML = '';\n",
              "        dataTable['output_type'] = 'display_data';\n",
              "        await google.colab.output.renderOutput(dataTable, element);\n",
              "        const docLink = document.createElement('div');\n",
              "        docLink.innerHTML = docLinkHtml;\n",
              "        element.appendChild(docLink);\n",
              "      }\n",
              "    </script>\n",
              "  </div>\n",
              "\n",
              "\n",
              "<div id=\"df-5b23bb77-4833-491c-b44e-e95f71b4bbde\">\n",
              "  <button class=\"colab-df-quickchart\" onclick=\"quickchart('df-5b23bb77-4833-491c-b44e-e95f71b4bbde')\"\n",
              "            title=\"Suggest charts\"\n",
              "            style=\"display:none;\">\n",
              "\n",
              "<svg xmlns=\"http://www.w3.org/2000/svg\" height=\"24px\"viewBox=\"0 0 24 24\"\n",
              "     width=\"24px\">\n",
              "    <g>\n",
              "        <path d=\"M19 3H5c-1.1 0-2 .9-2 2v14c0 1.1.9 2 2 2h14c1.1 0 2-.9 2-2V5c0-1.1-.9-2-2-2zM9 17H7v-7h2v7zm4 0h-2V7h2v10zm4 0h-2v-4h2v4z\"/>\n",
              "    </g>\n",
              "</svg>\n",
              "  </button>\n",
              "\n",
              "<style>\n",
              "  .colab-df-quickchart {\n",
              "      --bg-color: #E8F0FE;\n",
              "      --fill-color: #1967D2;\n",
              "      --hover-bg-color: #E2EBFA;\n",
              "      --hover-fill-color: #174EA6;\n",
              "      --disabled-fill-color: #AAA;\n",
              "      --disabled-bg-color: #DDD;\n",
              "  }\n",
              "\n",
              "  [theme=dark] .colab-df-quickchart {\n",
              "      --bg-color: #3B4455;\n",
              "      --fill-color: #D2E3FC;\n",
              "      --hover-bg-color: #434B5C;\n",
              "      --hover-fill-color: #FFFFFF;\n",
              "      --disabled-bg-color: #3B4455;\n",
              "      --disabled-fill-color: #666;\n",
              "  }\n",
              "\n",
              "  .colab-df-quickchart {\n",
              "    background-color: var(--bg-color);\n",
              "    border: none;\n",
              "    border-radius: 50%;\n",
              "    cursor: pointer;\n",
              "    display: none;\n",
              "    fill: var(--fill-color);\n",
              "    height: 32px;\n",
              "    padding: 0;\n",
              "    width: 32px;\n",
              "  }\n",
              "\n",
              "  .colab-df-quickchart:hover {\n",
              "    background-color: var(--hover-bg-color);\n",
              "    box-shadow: 0 1px 2px rgba(60, 64, 67, 0.3), 0 1px 3px 1px rgba(60, 64, 67, 0.15);\n",
              "    fill: var(--button-hover-fill-color);\n",
              "  }\n",
              "\n",
              "  .colab-df-quickchart-complete:disabled,\n",
              "  .colab-df-quickchart-complete:disabled:hover {\n",
              "    background-color: var(--disabled-bg-color);\n",
              "    fill: var(--disabled-fill-color);\n",
              "    box-shadow: none;\n",
              "  }\n",
              "\n",
              "  .colab-df-spinner {\n",
              "    border: 2px solid var(--fill-color);\n",
              "    border-color: transparent;\n",
              "    border-bottom-color: var(--fill-color);\n",
              "    animation:\n",
              "      spin 1s steps(1) infinite;\n",
              "  }\n",
              "\n",
              "  @keyframes spin {\n",
              "    0% {\n",
              "      border-color: transparent;\n",
              "      border-bottom-color: var(--fill-color);\n",
              "      border-left-color: var(--fill-color);\n",
              "    }\n",
              "    20% {\n",
              "      border-color: transparent;\n",
              "      border-left-color: var(--fill-color);\n",
              "      border-top-color: var(--fill-color);\n",
              "    }\n",
              "    30% {\n",
              "      border-color: transparent;\n",
              "      border-left-color: var(--fill-color);\n",
              "      border-top-color: var(--fill-color);\n",
              "      border-right-color: var(--fill-color);\n",
              "    }\n",
              "    40% {\n",
              "      border-color: transparent;\n",
              "      border-right-color: var(--fill-color);\n",
              "      border-top-color: var(--fill-color);\n",
              "    }\n",
              "    60% {\n",
              "      border-color: transparent;\n",
              "      border-right-color: var(--fill-color);\n",
              "    }\n",
              "    80% {\n",
              "      border-color: transparent;\n",
              "      border-right-color: var(--fill-color);\n",
              "      border-bottom-color: var(--fill-color);\n",
              "    }\n",
              "    90% {\n",
              "      border-color: transparent;\n",
              "      border-bottom-color: var(--fill-color);\n",
              "    }\n",
              "  }\n",
              "</style>\n",
              "\n",
              "  <script>\n",
              "    async function quickchart(key) {\n",
              "      const quickchartButtonEl =\n",
              "        document.querySelector('#' + key + ' button');\n",
              "      quickchartButtonEl.disabled = true;  // To prevent multiple clicks.\n",
              "      quickchartButtonEl.classList.add('colab-df-spinner');\n",
              "      try {\n",
              "        const charts = await google.colab.kernel.invokeFunction(\n",
              "            'suggestCharts', [key], {});\n",
              "      } catch (error) {\n",
              "        console.error('Error during call to suggestCharts:', error);\n",
              "      }\n",
              "      quickchartButtonEl.classList.remove('colab-df-spinner');\n",
              "      quickchartButtonEl.classList.add('colab-df-quickchart-complete');\n",
              "    }\n",
              "    (() => {\n",
              "      let quickchartButtonEl =\n",
              "        document.querySelector('#df-5b23bb77-4833-491c-b44e-e95f71b4bbde button');\n",
              "      quickchartButtonEl.style.display =\n",
              "        google.colab.kernel.accessAllowed ? 'block' : 'none';\n",
              "    })();\n",
              "  </script>\n",
              "</div>\n",
              "    </div>\n",
              "  </div>\n"
            ]
          },
          "metadata": {},
          "execution_count": 85
        }
      ]
    },
    {
      "cell_type": "code",
      "source": [
        "model = Word2Vec(new_df[0], window=3, workers=1)"
      ],
      "metadata": {
        "id": "6Lx50HAcfXdE"
      },
      "execution_count": null,
      "outputs": []
    },
    {
      "cell_type": "code",
      "source": [
        "word_vectors=model.wv\n",
        "vocabs = word_vectors.index_to_key\n",
        "word_vectors_list = [word_vectors[v] for v in vocabs]"
      ],
      "metadata": {
        "id": "yg0ONr32fXal"
      },
      "execution_count": null,
      "outputs": []
    },
    {
      "cell_type": "code",
      "source": [
        "model.wv.vectors.shape"
      ],
      "metadata": {
        "colab": {
          "base_uri": "https://localhost:8080/"
        },
        "id": "J5D5puZafXYk",
        "outputId": "61f970e2-2884-4e2c-ffbf-ebfdf647176e"
      },
      "execution_count": null,
      "outputs": [
        {
          "output_type": "execute_result",
          "data": {
            "text/plain": [
              "(14450, 100)"
            ]
          },
          "metadata": {},
          "execution_count": 88
        }
      ]
    },
    {
      "cell_type": "code",
      "source": [
        "from sqlalchemy.sql.elements import Null\n",
        "def get_document_vectors(document_list):\n",
        "    document_embedding_list = []\n",
        "\n",
        "    # 각 문서에 대해서\n",
        "    for line in document_list:\n",
        "        doc2vec = None\n",
        "        count = 0\n",
        "        for word in line:\n",
        "            if word in model.wv:\n",
        "              count += 1\n",
        "              # 해당 문서에 있는 모든 단어들의 벡터값을 더한다.\n",
        "              if doc2vec is None:\n",
        "                doc2vec = model.wv.get_vector(word)\n",
        "              else:\n",
        "                doc2vec = doc2vec + model.wv.get_vector(word)\n",
        "\n",
        "        if doc2vec is not None:\n",
        "            # 단어 벡터를 모두 더한 벡터의 값을 문서 길이로 나눠준다.\n",
        "            doc2vec = doc2vec / count\n",
        "            document_embedding_list.append(doc2vec)\n",
        "\n",
        "        if doc2vec is None:\n",
        "            document_embedding_list.append(np.nan)\n",
        "\n",
        "    # 각 문서에 대한 문서 벡터 리스트를 리턴\n",
        "    return document_embedding_list"
      ],
      "metadata": {
        "id": "9b_RWrIYgX1O"
      },
      "execution_count": null,
      "outputs": []
    },
    {
      "cell_type": "code",
      "source": [
        "document_embedding_list = get_document_vectors(new_df[0])"
      ],
      "metadata": {
        "id": "l4J8hImzfXS6"
      },
      "execution_count": null,
      "outputs": []
    },
    {
      "cell_type": "code",
      "source": [
        "len(document_embedding_list)"
      ],
      "metadata": {
        "colab": {
          "base_uri": "https://localhost:8080/"
        },
        "id": "q6iFXsdofXQE",
        "outputId": "d1592288-ab7d-4040-abde-c4a526b6e3e7"
      },
      "execution_count": null,
      "outputs": [
        {
          "output_type": "execute_result",
          "data": {
            "text/plain": [
              "4249"
            ]
          },
          "metadata": {},
          "execution_count": 91
        }
      ]
    },
    {
      "cell_type": "code",
      "source": [
        "df['게시물내용'] = document_embedding_list"
      ],
      "metadata": {
        "id": "udCpPzNzfXNk"
      },
      "execution_count": null,
      "outputs": []
    },
    {
      "cell_type": "code",
      "source": [
        "df = df.dropna()"
      ],
      "metadata": {
        "id": "uwrtfxJtfplM"
      },
      "execution_count": null,
      "outputs": []
    },
    {
      "cell_type": "code",
      "source": [
        "df = df.reset_index(drop = True) # df에 저장시켜줘야 정보가 저장됨."
      ],
      "metadata": {
        "id": "G9hkj3kGfplM"
      },
      "execution_count": null,
      "outputs": []
    },
    {
      "cell_type": "code",
      "source": [
        "sns_vector = []\n",
        "\n",
        "for i in df['게시물내용']:\n",
        "  sum = 0\n",
        "  for j in i:\n",
        "    sum += j\n",
        "  sns_vector.append(sum/100)"
      ],
      "metadata": {
        "id": "hItCXKecfXIF"
      },
      "execution_count": null,
      "outputs": []
    },
    {
      "cell_type": "code",
      "source": [
        "df['게시물내용'] = sns_vector"
      ],
      "metadata": {
        "id": "gOw1vCHRfXFY"
      },
      "execution_count": null,
      "outputs": []
    },
    {
      "cell_type": "markdown",
      "source": [
        "뉴스내용"
      ],
      "metadata": {
        "id": "zyaYTmgpZCk0"
      }
    },
    {
      "cell_type": "code",
      "source": [
        "df['뉴스내용_불용어제거'] = df['뉴스내용_불용어제거'].str.replace('[^ㄱ-ㅎ ㅏ-ㅣ 가-힝]', '')"
      ],
      "metadata": {
        "colab": {
          "base_uri": "https://localhost:8080/"
        },
        "id": "9wwDQYEffW_6",
        "outputId": "7e0e220c-9614-4e30-bbbe-88fc5bb9803b"
      },
      "execution_count": null,
      "outputs": [
        {
          "output_type": "stream",
          "name": "stderr",
          "text": [
            "<ipython-input-98-d8931d0ad646>:1: FutureWarning: The default value of regex will change from True to False in a future version.\n",
            "  df['뉴스내용_불용어제거'] = df['뉴스내용_불용어제거'].str.replace('[^ㄱ-ㅎ ㅏ-ㅣ 가-힝]', '')\n"
          ]
        }
      ]
    },
    {
      "cell_type": "code",
      "source": [
        "df['뉴스내용_불용어제거']"
      ],
      "metadata": {
        "colab": {
          "base_uri": "https://localhost:8080/"
        },
        "id": "x-M_8QxVfW9U",
        "outputId": "8a25a996-5b09-45bd-a9b4-ccddbadb6a0f"
      },
      "execution_count": null,
      "outputs": [
        {
          "output_type": "execute_result",
          "data": {
            "text/plain": [
              "0       사진 연합뉴스 쌍방울그룹의 대북 송금 의혹 중심에 있는 아태평화교류협회 아태협 안모...\n",
              "1       글로벌 투자유치 명과 암 국내 기업들  엑시트 급제동분위기 싸늘해진 글로벌투자자지분...\n",
              "2       내년 월 단계 임상 결과 공식 발표 예정 글로벌 제약사들도 데이터 기다리는 중 기술...\n",
              "3       이데일리 김화빈 기자 유튜브 채널에 출연해 과거 한 나이트클럽에서 만난 쥴리 가 윤...\n",
              "4       금산군의회 산업건설위원회 김기윤 위원장 김기윤 금산군의회 산업건설위원장 사진 금산군...\n",
              "                              ...                        \n",
              "4244    화려한 기술보다 훌륭한 인성 먼저 강조흥민이도 기본기 배우는 데 년 걸려 왼발 잊지...\n",
              "4245    화물연대의 총파업 일째인 일 밤 경기도 의왕시 내륙컨테이너기지  에서 열린 차 실무...\n",
              "4246    화제를 모은 한동훈 법무부 장관 후보자 패션 사진 뉴스 온라인 커뮤니티 에펨코리아 ...\n",
              "4247    화진포 고성 화진팔경 화진포호는 둘레가 약  에 달해 우리나라 석호 중 최대 규모를...\n",
              "4248    회생절차 순조롭지 않을 듯 발 쇼크에 전세계 가상화폐 시장  줄어 사진출처 로이터 ...\n",
              "Name: 뉴스내용_불용어제거, Length: 4249, dtype: object"
            ]
          },
          "metadata": {},
          "execution_count": 99
        }
      ]
    },
    {
      "cell_type": "code",
      "source": [
        "sns_token = []\n",
        "for i in df['뉴스내용_불용어제거']:\n",
        "  sns_token.append(tokenize(i))"
      ],
      "metadata": {
        "id": "lmXwzjdvfW4d"
      },
      "execution_count": null,
      "outputs": []
    },
    {
      "cell_type": "code",
      "source": [
        "new_df = pd.DataFrame(sns_token)\n",
        "new_df"
      ],
      "metadata": {
        "colab": {
          "base_uri": "https://localhost:8080/",
          "height": 423
        },
        "id": "jA_ZlEuCfW1d",
        "outputId": "2613e222-f302-4e60-b5d2-517f6deae948"
      },
      "execution_count": null,
      "outputs": [
        {
          "output_type": "execute_result",
          "data": {
            "text/plain": [
              "                                                      0\n",
              "0     [사진, 연합뉴스, 쌍방울, 그룹, 의, 대북, 송금, 의혹, 중심, 에, 있, 는...\n",
              "1     [글로벌, 투자, 유치, 명과, 암, 국내, 기업, 들, 엑시트, 급제동, 분위기,...\n",
              "2     [내년, 월, 단계, 임상, 결과, 공식, 발표, 예정, 글로벌, 제약사, 들, 도...\n",
              "3     [이, 데일리, 김화빈, 기자, 유튜브, 채널, 에, 출연, 해, 과거, 한, 나이...\n",
              "4     [금산군, 의회, 산업, 건설, 위원회, 김기윤, 위원장, 김기윤, 금산군, 의회,...\n",
              "...                                                 ...\n",
              "4244  [화려, 한, 기술, 보다, 훌륭, 한, 인성, 먼저, 강조, 흥, 민이, 도, 기...\n",
              "4245  [화물, 연대, 의, 총파업, 일, 째, 인, 일, 밤, 경기도, 의왕시, 내륙, ...\n",
              "4246  [화제, 를, 모은, 한동훈, 법무부, 장관, 후보, 자, 패션, 사진, 뉴스, 온...\n",
              "4247  [화진포, 고성, 화진, 팔경, 화, 진포, 호, 는, 둘레, 가, 약, 에, 달해...\n",
              "4248  [회생, 절차, 순조, 롭, 지, 않, 을, 듯, 발, 쇼크, 에, 전, 세계, 가...\n",
              "\n",
              "[4249 rows x 1 columns]"
            ],
            "text/html": [
              "\n",
              "  <div id=\"df-dd9967e6-5f92-49b2-8549-c73f41be74d6\" class=\"colab-df-container\">\n",
              "    <div>\n",
              "<style scoped>\n",
              "    .dataframe tbody tr th:only-of-type {\n",
              "        vertical-align: middle;\n",
              "    }\n",
              "\n",
              "    .dataframe tbody tr th {\n",
              "        vertical-align: top;\n",
              "    }\n",
              "\n",
              "    .dataframe thead th {\n",
              "        text-align: right;\n",
              "    }\n",
              "</style>\n",
              "<table border=\"1\" class=\"dataframe\">\n",
              "  <thead>\n",
              "    <tr style=\"text-align: right;\">\n",
              "      <th></th>\n",
              "      <th>0</th>\n",
              "    </tr>\n",
              "  </thead>\n",
              "  <tbody>\n",
              "    <tr>\n",
              "      <th>0</th>\n",
              "      <td>[사진, 연합뉴스, 쌍방울, 그룹, 의, 대북, 송금, 의혹, 중심, 에, 있, 는...</td>\n",
              "    </tr>\n",
              "    <tr>\n",
              "      <th>1</th>\n",
              "      <td>[글로벌, 투자, 유치, 명과, 암, 국내, 기업, 들, 엑시트, 급제동, 분위기,...</td>\n",
              "    </tr>\n",
              "    <tr>\n",
              "      <th>2</th>\n",
              "      <td>[내년, 월, 단계, 임상, 결과, 공식, 발표, 예정, 글로벌, 제약사, 들, 도...</td>\n",
              "    </tr>\n",
              "    <tr>\n",
              "      <th>3</th>\n",
              "      <td>[이, 데일리, 김화빈, 기자, 유튜브, 채널, 에, 출연, 해, 과거, 한, 나이...</td>\n",
              "    </tr>\n",
              "    <tr>\n",
              "      <th>4</th>\n",
              "      <td>[금산군, 의회, 산업, 건설, 위원회, 김기윤, 위원장, 김기윤, 금산군, 의회,...</td>\n",
              "    </tr>\n",
              "    <tr>\n",
              "      <th>...</th>\n",
              "      <td>...</td>\n",
              "    </tr>\n",
              "    <tr>\n",
              "      <th>4244</th>\n",
              "      <td>[화려, 한, 기술, 보다, 훌륭, 한, 인성, 먼저, 강조, 흥, 민이, 도, 기...</td>\n",
              "    </tr>\n",
              "    <tr>\n",
              "      <th>4245</th>\n",
              "      <td>[화물, 연대, 의, 총파업, 일, 째, 인, 일, 밤, 경기도, 의왕시, 내륙, ...</td>\n",
              "    </tr>\n",
              "    <tr>\n",
              "      <th>4246</th>\n",
              "      <td>[화제, 를, 모은, 한동훈, 법무부, 장관, 후보, 자, 패션, 사진, 뉴스, 온...</td>\n",
              "    </tr>\n",
              "    <tr>\n",
              "      <th>4247</th>\n",
              "      <td>[화진포, 고성, 화진, 팔경, 화, 진포, 호, 는, 둘레, 가, 약, 에, 달해...</td>\n",
              "    </tr>\n",
              "    <tr>\n",
              "      <th>4248</th>\n",
              "      <td>[회생, 절차, 순조, 롭, 지, 않, 을, 듯, 발, 쇼크, 에, 전, 세계, 가...</td>\n",
              "    </tr>\n",
              "  </tbody>\n",
              "</table>\n",
              "<p>4249 rows × 1 columns</p>\n",
              "</div>\n",
              "    <div class=\"colab-df-buttons\">\n",
              "\n",
              "  <div class=\"colab-df-container\">\n",
              "    <button class=\"colab-df-convert\" onclick=\"convertToInteractive('df-dd9967e6-5f92-49b2-8549-c73f41be74d6')\"\n",
              "            title=\"Convert this dataframe to an interactive table.\"\n",
              "            style=\"display:none;\">\n",
              "\n",
              "  <svg xmlns=\"http://www.w3.org/2000/svg\" height=\"24px\" viewBox=\"0 -960 960 960\">\n",
              "    <path d=\"M120-120v-720h720v720H120Zm60-500h600v-160H180v160Zm220 220h160v-160H400v160Zm0 220h160v-160H400v160ZM180-400h160v-160H180v160Zm440 0h160v-160H620v160ZM180-180h160v-160H180v160Zm440 0h160v-160H620v160Z\"/>\n",
              "  </svg>\n",
              "    </button>\n",
              "\n",
              "  <style>\n",
              "    .colab-df-container {\n",
              "      display:flex;\n",
              "      gap: 12px;\n",
              "    }\n",
              "\n",
              "    .colab-df-convert {\n",
              "      background-color: #E8F0FE;\n",
              "      border: none;\n",
              "      border-radius: 50%;\n",
              "      cursor: pointer;\n",
              "      display: none;\n",
              "      fill: #1967D2;\n",
              "      height: 32px;\n",
              "      padding: 0 0 0 0;\n",
              "      width: 32px;\n",
              "    }\n",
              "\n",
              "    .colab-df-convert:hover {\n",
              "      background-color: #E2EBFA;\n",
              "      box-shadow: 0px 1px 2px rgba(60, 64, 67, 0.3), 0px 1px 3px 1px rgba(60, 64, 67, 0.15);\n",
              "      fill: #174EA6;\n",
              "    }\n",
              "\n",
              "    .colab-df-buttons div {\n",
              "      margin-bottom: 4px;\n",
              "    }\n",
              "\n",
              "    [theme=dark] .colab-df-convert {\n",
              "      background-color: #3B4455;\n",
              "      fill: #D2E3FC;\n",
              "    }\n",
              "\n",
              "    [theme=dark] .colab-df-convert:hover {\n",
              "      background-color: #434B5C;\n",
              "      box-shadow: 0px 1px 3px 1px rgba(0, 0, 0, 0.15);\n",
              "      filter: drop-shadow(0px 1px 2px rgba(0, 0, 0, 0.3));\n",
              "      fill: #FFFFFF;\n",
              "    }\n",
              "  </style>\n",
              "\n",
              "    <script>\n",
              "      const buttonEl =\n",
              "        document.querySelector('#df-dd9967e6-5f92-49b2-8549-c73f41be74d6 button.colab-df-convert');\n",
              "      buttonEl.style.display =\n",
              "        google.colab.kernel.accessAllowed ? 'block' : 'none';\n",
              "\n",
              "      async function convertToInteractive(key) {\n",
              "        const element = document.querySelector('#df-dd9967e6-5f92-49b2-8549-c73f41be74d6');\n",
              "        const dataTable =\n",
              "          await google.colab.kernel.invokeFunction('convertToInteractive',\n",
              "                                                    [key], {});\n",
              "        if (!dataTable) return;\n",
              "\n",
              "        const docLinkHtml = 'Like what you see? Visit the ' +\n",
              "          '<a target=\"_blank\" href=https://colab.research.google.com/notebooks/data_table.ipynb>data table notebook</a>'\n",
              "          + ' to learn more about interactive tables.';\n",
              "        element.innerHTML = '';\n",
              "        dataTable['output_type'] = 'display_data';\n",
              "        await google.colab.output.renderOutput(dataTable, element);\n",
              "        const docLink = document.createElement('div');\n",
              "        docLink.innerHTML = docLinkHtml;\n",
              "        element.appendChild(docLink);\n",
              "      }\n",
              "    </script>\n",
              "  </div>\n",
              "\n",
              "\n",
              "<div id=\"df-139ce556-36a8-4ae4-9904-78d5478fa20f\">\n",
              "  <button class=\"colab-df-quickchart\" onclick=\"quickchart('df-139ce556-36a8-4ae4-9904-78d5478fa20f')\"\n",
              "            title=\"Suggest charts\"\n",
              "            style=\"display:none;\">\n",
              "\n",
              "<svg xmlns=\"http://www.w3.org/2000/svg\" height=\"24px\"viewBox=\"0 0 24 24\"\n",
              "     width=\"24px\">\n",
              "    <g>\n",
              "        <path d=\"M19 3H5c-1.1 0-2 .9-2 2v14c0 1.1.9 2 2 2h14c1.1 0 2-.9 2-2V5c0-1.1-.9-2-2-2zM9 17H7v-7h2v7zm4 0h-2V7h2v10zm4 0h-2v-4h2v4z\"/>\n",
              "    </g>\n",
              "</svg>\n",
              "  </button>\n",
              "\n",
              "<style>\n",
              "  .colab-df-quickchart {\n",
              "      --bg-color: #E8F0FE;\n",
              "      --fill-color: #1967D2;\n",
              "      --hover-bg-color: #E2EBFA;\n",
              "      --hover-fill-color: #174EA6;\n",
              "      --disabled-fill-color: #AAA;\n",
              "      --disabled-bg-color: #DDD;\n",
              "  }\n",
              "\n",
              "  [theme=dark] .colab-df-quickchart {\n",
              "      --bg-color: #3B4455;\n",
              "      --fill-color: #D2E3FC;\n",
              "      --hover-bg-color: #434B5C;\n",
              "      --hover-fill-color: #FFFFFF;\n",
              "      --disabled-bg-color: #3B4455;\n",
              "      --disabled-fill-color: #666;\n",
              "  }\n",
              "\n",
              "  .colab-df-quickchart {\n",
              "    background-color: var(--bg-color);\n",
              "    border: none;\n",
              "    border-radius: 50%;\n",
              "    cursor: pointer;\n",
              "    display: none;\n",
              "    fill: var(--fill-color);\n",
              "    height: 32px;\n",
              "    padding: 0;\n",
              "    width: 32px;\n",
              "  }\n",
              "\n",
              "  .colab-df-quickchart:hover {\n",
              "    background-color: var(--hover-bg-color);\n",
              "    box-shadow: 0 1px 2px rgba(60, 64, 67, 0.3), 0 1px 3px 1px rgba(60, 64, 67, 0.15);\n",
              "    fill: var(--button-hover-fill-color);\n",
              "  }\n",
              "\n",
              "  .colab-df-quickchart-complete:disabled,\n",
              "  .colab-df-quickchart-complete:disabled:hover {\n",
              "    background-color: var(--disabled-bg-color);\n",
              "    fill: var(--disabled-fill-color);\n",
              "    box-shadow: none;\n",
              "  }\n",
              "\n",
              "  .colab-df-spinner {\n",
              "    border: 2px solid var(--fill-color);\n",
              "    border-color: transparent;\n",
              "    border-bottom-color: var(--fill-color);\n",
              "    animation:\n",
              "      spin 1s steps(1) infinite;\n",
              "  }\n",
              "\n",
              "  @keyframes spin {\n",
              "    0% {\n",
              "      border-color: transparent;\n",
              "      border-bottom-color: var(--fill-color);\n",
              "      border-left-color: var(--fill-color);\n",
              "    }\n",
              "    20% {\n",
              "      border-color: transparent;\n",
              "      border-left-color: var(--fill-color);\n",
              "      border-top-color: var(--fill-color);\n",
              "    }\n",
              "    30% {\n",
              "      border-color: transparent;\n",
              "      border-left-color: var(--fill-color);\n",
              "      border-top-color: var(--fill-color);\n",
              "      border-right-color: var(--fill-color);\n",
              "    }\n",
              "    40% {\n",
              "      border-color: transparent;\n",
              "      border-right-color: var(--fill-color);\n",
              "      border-top-color: var(--fill-color);\n",
              "    }\n",
              "    60% {\n",
              "      border-color: transparent;\n",
              "      border-right-color: var(--fill-color);\n",
              "    }\n",
              "    80% {\n",
              "      border-color: transparent;\n",
              "      border-right-color: var(--fill-color);\n",
              "      border-bottom-color: var(--fill-color);\n",
              "    }\n",
              "    90% {\n",
              "      border-color: transparent;\n",
              "      border-bottom-color: var(--fill-color);\n",
              "    }\n",
              "  }\n",
              "</style>\n",
              "\n",
              "  <script>\n",
              "    async function quickchart(key) {\n",
              "      const quickchartButtonEl =\n",
              "        document.querySelector('#' + key + ' button');\n",
              "      quickchartButtonEl.disabled = true;  // To prevent multiple clicks.\n",
              "      quickchartButtonEl.classList.add('colab-df-spinner');\n",
              "      try {\n",
              "        const charts = await google.colab.kernel.invokeFunction(\n",
              "            'suggestCharts', [key], {});\n",
              "      } catch (error) {\n",
              "        console.error('Error during call to suggestCharts:', error);\n",
              "      }\n",
              "      quickchartButtonEl.classList.remove('colab-df-spinner');\n",
              "      quickchartButtonEl.classList.add('colab-df-quickchart-complete');\n",
              "    }\n",
              "    (() => {\n",
              "      let quickchartButtonEl =\n",
              "        document.querySelector('#df-139ce556-36a8-4ae4-9904-78d5478fa20f button');\n",
              "      quickchartButtonEl.style.display =\n",
              "        google.colab.kernel.accessAllowed ? 'block' : 'none';\n",
              "    })();\n",
              "  </script>\n",
              "</div>\n",
              "    </div>\n",
              "  </div>\n"
            ]
          },
          "metadata": {},
          "execution_count": 103
        }
      ]
    },
    {
      "cell_type": "code",
      "source": [
        "model = Word2Vec(new_df[0], window=3, workers=1)"
      ],
      "metadata": {
        "id": "rE1C-kH3fybU"
      },
      "execution_count": null,
      "outputs": []
    },
    {
      "cell_type": "code",
      "source": [
        "word_vectors=model.wv\n",
        "vocabs = word_vectors.index_to_key\n",
        "word_vectors_list = [word_vectors[v] for v in vocabs]"
      ],
      "metadata": {
        "id": "r0IQ_ehTfyYd"
      },
      "execution_count": null,
      "outputs": []
    },
    {
      "cell_type": "code",
      "source": [
        "model.wv.vectors.shape"
      ],
      "metadata": {
        "colab": {
          "base_uri": "https://localhost:8080/"
        },
        "id": "3rz9OVsXfyWF",
        "outputId": "110a64fa-33a6-4d9c-f468-b36ad783bd1a"
      },
      "execution_count": null,
      "outputs": [
        {
          "output_type": "execute_result",
          "data": {
            "text/plain": [
              "(21499, 100)"
            ]
          },
          "metadata": {},
          "execution_count": 106
        }
      ]
    },
    {
      "cell_type": "code",
      "source": [
        "from sqlalchemy.sql.elements import Null\n",
        "def get_document_vectors(document_list):\n",
        "    document_embedding_list = []\n",
        "\n",
        "    # 각 문서에 대해서\n",
        "    for line in document_list:\n",
        "        doc2vec = None\n",
        "        count = 0\n",
        "        for word in line:\n",
        "            if word in model.wv:\n",
        "              count += 1\n",
        "              # 해당 문서에 있는 모든 단어들의 벡터값을 더한다.\n",
        "              if doc2vec is None:\n",
        "                doc2vec = model.wv.get_vector(word)\n",
        "              else:\n",
        "                doc2vec = doc2vec + model.wv.get_vector(word)\n",
        "\n",
        "        if doc2vec is not None:\n",
        "            # 단어 벡터를 모두 더한 벡터의 값을 문서 길이로 나눠준다.\n",
        "            doc2vec = doc2vec / count\n",
        "            document_embedding_list.append(doc2vec)\n",
        "\n",
        "        if doc2vec is None:\n",
        "            document_embedding_list.append(np.nan)\n",
        "\n",
        "    # 각 문서에 대한 문서 벡터 리스트를 리턴\n",
        "    return document_embedding_list"
      ],
      "metadata": {
        "id": "cjJQDbL6fyTl"
      },
      "execution_count": null,
      "outputs": []
    },
    {
      "cell_type": "code",
      "source": [
        "document_embedding_list = get_document_vectors(new_df[0])"
      ],
      "metadata": {
        "id": "N0VT0c8Y48b7"
      },
      "execution_count": null,
      "outputs": []
    },
    {
      "cell_type": "code",
      "source": [
        "len(document_embedding_list)"
      ],
      "metadata": {
        "colab": {
          "base_uri": "https://localhost:8080/"
        },
        "id": "P0Ttqqi248Zl",
        "outputId": "34cbaf7c-ee36-44c0-ea45-6092c9b7812d"
      },
      "execution_count": null,
      "outputs": [
        {
          "output_type": "execute_result",
          "data": {
            "text/plain": [
              "4249"
            ]
          },
          "metadata": {},
          "execution_count": 109
        }
      ]
    },
    {
      "cell_type": "code",
      "source": [
        "df['뉴스내용_불용어처리'] = document_embedding_list"
      ],
      "metadata": {
        "id": "rUVLGY7lYHyB"
      },
      "execution_count": null,
      "outputs": []
    },
    {
      "cell_type": "code",
      "source": [
        "df = df.dropna()"
      ],
      "metadata": {
        "id": "Xq1OG8B2gnNS"
      },
      "execution_count": null,
      "outputs": []
    },
    {
      "cell_type": "code",
      "source": [
        "df = df.reset_index(drop = True) # df에 저장시켜줘야 정보가 저장됨."
      ],
      "metadata": {
        "id": "i7QvrMwLgnNS"
      },
      "execution_count": null,
      "outputs": []
    },
    {
      "cell_type": "code",
      "source": [
        "sns_vector = []\n",
        "\n",
        "for i in df['뉴스내용_불용어처리']:\n",
        "  sum = 0\n",
        "\n",
        "  for j in i:\n",
        "    sum += j\n",
        "\n",
        "  sns_vector.append(sum/100)"
      ],
      "metadata": {
        "id": "keuZoT4xfyOw"
      },
      "execution_count": null,
      "outputs": []
    },
    {
      "cell_type": "code",
      "source": [
        "df['뉴스내용_불용어처리'] = sns_vector"
      ],
      "metadata": {
        "id": "Z1tFXU1zfyML"
      },
      "execution_count": null,
      "outputs": []
    },
    {
      "cell_type": "code",
      "source": [
        "df['뉴스내용_불용어처리']"
      ],
      "metadata": {
        "id": "aplstAj0cR55",
        "outputId": "eaa06dba-4128-4f41-d0f0-a705c5693a37",
        "colab": {
          "base_uri": "https://localhost:8080/"
        }
      },
      "execution_count": null,
      "outputs": [
        {
          "output_type": "execute_result",
          "data": {
            "text/plain": [
              "0       0.000320\n",
              "1       0.005566\n",
              "2       0.010493\n",
              "3      -0.004752\n",
              "4       0.014992\n",
              "          ...   \n",
              "4145   -0.002933\n",
              "4146    0.001026\n",
              "4147   -0.006003\n",
              "4148    0.008995\n",
              "4149    0.003568\n",
              "Name: 뉴스내용_불용어처리, Length: 4150, dtype: float64"
            ]
          },
          "metadata": {},
          "execution_count": 118
        }
      ]
    },
    {
      "cell_type": "code",
      "source": [
        "df.to_excel('데이터정제_데이터임베딩_토크나이저 변경_231114.xlsx')"
      ],
      "metadata": {
        "id": "f0_JHBvcYHu2"
      },
      "execution_count": null,
      "outputs": []
    }
  ]
}