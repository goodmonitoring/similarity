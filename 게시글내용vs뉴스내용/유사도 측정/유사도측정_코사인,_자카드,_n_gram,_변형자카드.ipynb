{
  "nbformat": 4,
  "nbformat_minor": 0,
  "metadata": {
    "colab": {
      "provenance": []
    },
    "kernelspec": {
      "name": "python3",
      "display_name": "Python 3"
    },
    "language_info": {
      "name": "python"
    }
  },
  "cells": [
    {
      "cell_type": "code",
      "execution_count": null,
      "metadata": {
        "id": "H35ZZbDCZrsh"
      },
      "outputs": [],
      "source": [
        "from google.colab import drive\n",
        "drive.mount('/content/drive')"
      ]
    },
    {
      "cell_type": "code",
      "source": [
        "import pandas as pd\n",
        "\n",
        "df = pd.read_excel('/content/drive/MyDrive/뉴스_내용_유사도 vs 변수 간 상관관계 측정_230901.xlsx')"
      ],
      "metadata": {
        "id": "AaqdM4qNZwzH"
      },
      "execution_count": null,
      "outputs": []
    },
    {
      "cell_type": "code",
      "source": [
        "df.info()"
      ],
      "metadata": {
        "id": "_rVrTOR1c1pd"
      },
      "execution_count": null,
      "outputs": []
    },
    {
      "cell_type": "markdown",
      "source": [
        "결측치 처리"
      ],
      "metadata": {
        "id": "dWD7Qi8nGYm2"
      }
    },
    {
      "cell_type": "code",
      "source": [
        "#결측치(nan, -) 존재하지 않는 단어로 변경\n",
        "\n",
        "#nan 데이터 존재하지 않는 단어로 변경\n",
        "nan_delete = df[['게시물내용', '뉴스내용']]\n",
        "\n",
        "nan_delete['게시물내용'] = nan_delete['게시물내용'].fillna('꺍')\n",
        "nan_delete['뉴스내용'] = nan_delete['뉴스내용'].fillna('꺍')\n",
        "\n",
        "# - 데이터 존재하지 않는 단어로 변경\n",
        "nan_delete.loc[nan_delete['게시물내용'] == '-', '게시물내용'] = '꺍'\n",
        "nan_delete.loc[nan_delete['뉴스내용'] == '-', '뉴스내용'] = '꺍'\n"
      ],
      "metadata": {
        "id": "WlrHkT5CZ3AO"
      },
      "execution_count": null,
      "outputs": []
    },
    {
      "cell_type": "markdown",
      "source": [
        "데이터 분리 및 제거"
      ],
      "metadata": {
        "id": "Q7lKgiNwGWYP"
      }
    },
    {
      "cell_type": "code",
      "source": [
        "content_len = len(df)\n",
        "\n",
        "for i in range(0, content_len):\n",
        "  df['뉴스내용'][i] = df['뉴스내용'][i].split('무단전재 재배포 금지')[0]\n",
        "\n",
        "# for i in range(0, content_len):\n",
        "#   df['뉴스내용'][i] = df['뉴스내용'][i].split('무단 전재 및 재배포 금지')[0]\n",
        "\n",
        "for i in range(0, content_len):\n",
        "  df['뉴스내용'][i] = df['뉴스내용'][i].split('무단전재 및 재배포 금지')[0]\n",
        "\n",
        "for i in range(0, content_len):\n",
        "  df['뉴스내용'][i] = df['뉴스내용'][i].split('무단전재 및 수집 재배포 금지')[0]\n",
        "\n",
        "for i in range(0, content_len):\n",
        "  df['뉴스내용'][i] = df['뉴스내용'][i].split('e대한경제신문')[0]\n",
        "\n",
        "# for i in range(0, content_len):\n",
        "#   df['뉴스내용'][i] = df['뉴스내용'][i].split('KBS 뉴스')[0]\n",
        "\n",
        "for i in range(0, content_len):\n",
        "  df['뉴스내용'][i] = df['뉴스내용'][i].split('KBS Copyright')[0]\n",
        "\n",
        "for i in range(0, content_len):\n",
        "  df['뉴스내용'][i] = df['뉴스내용'][i].split('OBS 뉴스는 언제나 여러분의')[0]\n",
        "\n",
        "for i in range(0, content_len):\n",
        "  df['뉴스내용'][i] = df['뉴스내용'][i].split('저작권자 PD저널')[0]\n",
        "\n",
        "for i in range(0, content_len):\n",
        "  df['뉴스내용'][i] = df['뉴스내용'][i].split('기자 프로필')[0]\n",
        "\n",
        "for i in range(0, content_len):\n",
        "  df['뉴스내용'][i] = df['뉴스내용'][i].split('Copyright SBS')[0]\n",
        "\n",
        "for i in range(0, content_len):\n",
        "  df['뉴스내용'][i] = df['뉴스내용'][i].split('ytn co kr')[0]\n",
        "\n",
        "for i in range(0, content_len):\n",
        "  df['뉴스내용'][i] = df['뉴스내용'][i].split('ytnplus co kr')[0]\n",
        "\n",
        "# for i in range(0, content_len):\n",
        "#   df['뉴스내용'][i] = df['뉴스내용'][i].split('ytnplus co kr')[0]\n",
        "\n",
        "#for i in range(0, content_len):\n",
        "  #df['뉴스내용'][i] = df['뉴스내용'][i].split('기자페이지')[1]\n",
        "\n",
        "# for i in range(0, content_len):\n",
        "#   df['뉴스내용'][i] = df['뉴스내용'][i].split('경기일보 www kyeonggi com')[0]\n",
        "\n",
        "for i in range(0, content_len):\n",
        "  df['뉴스내용'][i] = df['뉴스내용'][i].split('공유 저작권자 경남도민일보')[0]\n",
        "\n",
        "for i in range(0, content_len):\n",
        "  df['뉴스내용'][i] = df['뉴스내용'][i].split('경남신문의 콘텐츠는')[0]\n",
        "\n",
        "for i in range(0, content_len):\n",
        "  df['뉴스내용'][i] = df['뉴스내용'][i].split('저작권자 경북도민일보')[0]\n",
        "\n",
        "for i in range(0, content_len):\n",
        "  df['뉴스내용'][i] = df['뉴스내용'][i].split('저작권자 경북매일')[0]\n",
        "\n",
        "for i in range(0, content_len):\n",
        "  df['뉴스내용'][i] = df['뉴스내용'][i].split('저작권자 경북일보')[0]\n",
        "\n",
        "for i in range(0, content_len):\n",
        "  df['뉴스내용'][i] = df['뉴스내용'][i].split('저작권자 경상일보')[0]\n",
        "\n",
        "for i in range(0, content_len):\n",
        "  df['뉴스내용'][i] = df['뉴스내용'][i].split('저작권자 경인일보')[0]\n",
        "\n",
        "for i in range(0, content_len):\n",
        "  df['뉴스내용'][i] = df['뉴스내용'][i].split('저작권자고양신문')[0]\n",
        "\n",
        "for i in range(0, content_len):\n",
        "  df['뉴스내용'][i] = df['뉴스내용'][i].split('디지털 뉴스 콘텐츠 이용규칙보기')[0]\n",
        "\n",
        "for i in range(0, content_len):\n",
        "  df['뉴스내용'][i] = df['뉴스내용'][i].split('디지털 뉴스콘텐츠 이용규칙 보기')[0]\n",
        "\n",
        "for i in range(0, content_len):\n",
        "  df['뉴스내용'][i] = df['뉴스내용'][i].split('naeil com')[0]\n",
        "\n",
        "for i in range(0, content_len):\n",
        "  df['뉴스내용'][i] = df['뉴스내용'][i].split('kmib co kr')[0]\n",
        "\n",
        "for i in range(0, content_len):\n",
        "  df['뉴스내용'][i] = df['뉴스내용'][i].split('GoodNews paper 국민일보')[0]\n",
        "\n",
        "for i in range(0, content_len):\n",
        "  df['뉴스내용'][i] = df['뉴스내용'][i].split('한국기자협회 All rifht reserved')[0]\n",
        "\n",
        "for i in range(0, content_len):\n",
        "  df['뉴스내용'][i] = df['뉴스내용'][i].split('기호일보 아침을 여는 신문')[0]\n",
        "\n",
        "for i in range(0, content_len):\n",
        "  df['뉴스내용'][i] = df['뉴스내용'][i].split('저작권자 김포신문')[0]\n",
        "\n",
        "# for i in range(0, content_len):\n",
        "#   df['뉴스내용'][i] = df['뉴스내용'][i].split('namdonews com')[0]\n",
        "\n",
        "for i in range(0, content_len):\n",
        "  df['뉴스내용'][i] = df['뉴스내용'][i].split('광주전남 지역민의 소중한 제보를')[0]\n",
        "\n",
        "for i in range(0, content_len):\n",
        "  df['뉴스내용'][i] = df['뉴스내용'][i].split('CBS노컷뉴스는 여러분의 제보로 함께')[0]\n",
        "\n",
        "for i in range(0, content_len):\n",
        "  df['뉴스내용'][i] = df['뉴스내용'][i].split('저작권자 뉴스서천')[0]\n",
        "\n",
        "for i in range(0, content_len):\n",
        "  df['뉴스내용'][i] = df['뉴스내용'][i].split('저작권자 당진시대')[0]\n",
        "\n",
        "for i in range(0, content_len):\n",
        "  df['뉴스내용'][i] = df['뉴스내용'][i].split('저작권자 대구 경북 대표지역언론 대구일보')[0]\n",
        "\n",
        "for i in range(0, content_len):\n",
        "  df['뉴스내용'][i] = df['뉴스내용'][i].split('SNS 기사보내기')[0]\n",
        "\n",
        "for i in range(0, content_len):\n",
        "  df['뉴스내용'][i] = df['뉴스내용'][i].split('저작권자 헬로디디')[0]\n",
        "\n",
        "for i in range(0, content_len):\n",
        "  df['뉴스내용'][i] = df['뉴스내용'][i].split('daejonilbo com')[0]\n",
        "\n",
        "for i in range(0, content_len):\n",
        "  df['뉴스내용'][i] = df['뉴스내용'][i].split('저작권자 대전일보')[0]\n",
        "\n",
        "# for i in range(0, content_len):\n",
        "#   df['뉴스내용'][i] = df['뉴스내용'][i].split('dailian co kr')[0]\n",
        "\n",
        "for i in range(0, content_len):\n",
        "  df['뉴스내용'][i] = df['뉴스내용'][i].split('Copyright 데일리안')[0]\n",
        "\n",
        "for i in range(0, content_len):\n",
        "  df['뉴스내용'][i] = df['뉴스내용'][i].split('주 데일리안')[0]\n",
        "\n",
        "for i in range(0, content_len):\n",
        "  df['뉴스내용'][i] = df['뉴스내용'][i].split('dynews co kr')[0]\n",
        "\n",
        "for i in range(0, content_len):\n",
        "  df['뉴스내용'][i] = df['뉴스내용'][i].split('저작권자 동양일보')[0]\n",
        "\n",
        "# for i in range(0, content_len):\n",
        "#   df['뉴스내용'][i] = df['뉴스내용'][i].split('imaeil com')[0]\n",
        "\n",
        "for i in range(0, content_len):\n",
        "  df['뉴스내용'][i] = df['뉴스내용'][i].split('Copyright 매일신문')[0]\n",
        "\n",
        "for i in range(0, content_len):\n",
        "  df['뉴스내용'][i] = df['뉴스내용'][i].split('저작권자 돈이 보이는 리얼타임')[0]\n",
        "\n",
        "# for i in range(0, content_len):\n",
        "#   df['뉴스내용'][i] = df['뉴스내용'][i].split('mdilbo com')[0]\n",
        "\n",
        "for i in range(0, content_len):\n",
        "  df['뉴스내용'][i] = df['뉴스내용'][i].split('Tweet 이 기사를 후원합니다')[0]\n",
        "\n",
        "for i in range(0, content_len):\n",
        "  df['뉴스내용'][i] = df['뉴스내용'][i].split('busan com 부산일보')[0]\n",
        "\n",
        "for i in range(0, content_len):\n",
        "  df['뉴스내용'][i] = df['뉴스내용'][i].split('부산일보 www busan com')[0]\n",
        "\n",
        "for i in range(0, content_len):\n",
        "  df['뉴스내용'][i] = df['뉴스내용'][i].split('viva100 com')[0]\n",
        "\n",
        "for i in range(0, content_len):\n",
        "  df['뉴스내용'][i] = df['뉴스내용'][i].split('기자의 다른기사보기')[0]\n",
        "\n",
        "for i in range(0, content_len):\n",
        "  df['뉴스내용'][i] = df['뉴스내용'][i].split('sjbnews com')[0]\n",
        "\n",
        "for i in range(0, content_len):\n",
        "  df['뉴스내용'][i] = df['뉴스내용'][i].split('전북을 바꾸는 힘')[0]\n",
        "\n",
        "for i in range(0, content_len):\n",
        "  df['뉴스내용'][i] = df['뉴스내용'][i].split('저작권자 서울경제')[0]\n",
        "\n",
        "for i in range(0, content_len):\n",
        "  df['뉴스내용'][i] = df['뉴스내용'][i].split('sagye com')[0]\n",
        "\n",
        "for i in range(0, content_len):\n",
        "  df['뉴스내용'][i] = df['뉴스내용'][i].split('Copyright 세계일보')[0]\n",
        "\n",
        "for i in range(0, content_len):\n",
        "  df['뉴스내용'][i] = df['뉴스내용'][i].split('저작권자 소년한국일보')[0]\n",
        "\n",
        "# for i in range(0, content_len):\n",
        "#   df['뉴스내용'][i] = df['뉴스내용'][i].split('kyunghyang com')[0]\n",
        "\n",
        "for i in range(0, content_len):\n",
        "  df['뉴스내용'][i] = df['뉴스내용'][i].split('Copyright 스포츠경향')[0]\n",
        "\n",
        "# for i in range(0, content_len):\n",
        "#   df['뉴스내용'][i] = df['뉴스내용'][i].split('sportsseoul com')[0]\n",
        "\n",
        "for i in range(0, content_len):\n",
        "  df['뉴스내용'][i] = df['뉴스내용'][i].split('Copyright 스포츠서울')[0]\n",
        "\n",
        "for i in range(0, content_len):\n",
        "  df['뉴스내용'][i] = df['뉴스내용'][i].split('세계비즈앤스포츠월드')[0]\n",
        "\n",
        "for i in range(0, content_len):\n",
        "  df['뉴스내용'][i] = df['뉴스내용'][i].split('wportsworldi com')[0]\n",
        "\n",
        "for i in range(0, content_len):\n",
        "  df['뉴스내용'][i] = df['뉴스내용'][i].split('asiae co kr')[0]\n",
        "\n",
        "for i in range(0, content_len):\n",
        "  df['뉴스내용'][i] = df['뉴스내용'][i].split('좋아요0 화나요0 추천해요0')[0]\n",
        "\n",
        "for i in range(0, content_len):\n",
        "  df['뉴스내용'][i] = df['뉴스내용'][i].split('글로벌 경제신문 아주경제')[0]\n",
        "\n",
        "# for i in range(0, content_len):\n",
        "#   df['뉴스내용'][i] = df['뉴스내용'][i].split('yeongnam com')[0]\n",
        "\n",
        "for i in range(0, content_len):\n",
        "  df['뉴스내용'][i] = df['뉴스내용'][i].split('더보기 풀뿌리')[0]\n",
        "\n",
        "for i in range(0, content_len):\n",
        "  df['뉴스내용'][i] = df['뉴스내용'][i].split('저작권자 옥천신문')[0]\n",
        "\n",
        "for i in range(0, content_len):\n",
        "  df['뉴스내용'][i] = df['뉴스내용'][i].split('저작권자 울산매일')[0]\n",
        "\n",
        "for i in range(0, content_len):\n",
        "  df['뉴스내용'][i] = df['뉴스내용'][i].split('ulsanpress net')[0]\n",
        "\n",
        "for i in range(0, content_len):\n",
        "  df['뉴스내용'][i] = df['뉴스내용'][i].split('저작권자 울산신문')[0]\n",
        "\n",
        "for i in range(0, content_len):\n",
        "  df['뉴스내용'][i] = df['뉴스내용'][i].split('wonjutoday co kr')[0]\n",
        "\n",
        "for i in range(0, content_len):\n",
        "  df['뉴스내용'][i] = df['뉴스내용'][i].split('저작권자 원주투데이')[0]\n",
        "\n",
        "for i in range(0, content_len):\n",
        "  df['뉴스내용'][i] = df['뉴스내용'][i].split('저작권자 인천일보')[0]\n",
        "\n",
        "for i in range(0, content_len):\n",
        "  df['뉴스내용'][i] = df['뉴스내용'][i].split('ilyo co kr')[0]\n",
        "\n",
        "for i in range(0, content_len):\n",
        "  df['뉴스내용'][i] = df['뉴스내용'][i].split('저작권자 일요신문')[0]\n",
        "\n",
        "for i in range(0, content_len):\n",
        "  df['뉴스내용'][i] = df['뉴스내용'][i].split('jnilbo com')[0]\n",
        "\n",
        "for i in range(0, content_len):\n",
        "  df['뉴스내용'][i] = df['뉴스내용'][i].split('저작권자 전라일보')[0]\n",
        "\n",
        "for i in range(0, content_len):\n",
        "  df['뉴스내용'][i] = df['뉴스내용'][i].split('저작권자 전북도민일보')[0]\n",
        "\n",
        "for i in range(0, content_len):\n",
        "  df['뉴스내용'][i] = df['뉴스내용'][i].split('저작권자 전북일보')[0]\n",
        "\n",
        "for i in range(0, content_len):\n",
        "  df['뉴스내용'][i] = df['뉴스내용'][i].split('저작권자 제민일보')[0]\n",
        "\n",
        "for i in range(0, content_len):\n",
        "  df['뉴스내용'][i] = df['뉴스내용'][i].split('저작권자 중부매일')[0]\n",
        "\n",
        "for i in range(0, content_len):\n",
        "  df['뉴스내용'][i] = df['뉴스내용'][i].split('저작권자 중부일보')[0]\n",
        "\n",
        "for i in range(0, content_len):\n",
        "  df['뉴스내용'][i] = df['뉴스내용'][i].split('저작권자 충청일보')[0]\n",
        "\n",
        "for i in range(0, content_len):\n",
        "  df['뉴스내용'][i] = df['뉴스내용'][i].split('저작권자 충청투데이')[0]\n",
        "\n",
        "for i in range(0, content_len):\n",
        "  df['뉴스내용'][i] = df['뉴스내용'][i].split('기자 프로필 보기')[0]\n",
        "\n",
        "for i in range(0, content_len):\n",
        "  df['뉴스내용'][i] = df['뉴스내용'][i].split('저작권자 평택시민신문')[0]\n",
        "\n",
        "# for i in range(0, content_len):\n",
        "#   df['뉴스내용'][i] = df['뉴스내용'][i].split('hani co kr')[0]\n",
        "\n",
        "for i in range(0, content_len):\n",
        "  df['뉴스내용'][i] = df['뉴스내용'][i].split('한겨례 구독신청 하기')[0]\n",
        "\n",
        "# for i in range(0, content_len):\n",
        "#   df['뉴스내용'][i] = df['뉴스내용'][i].split('hankookilbo com')[0]\n",
        "\n",
        "for i in range(0, content_len):\n",
        "  df['뉴스내용'][i] = df['뉴스내용'][i].split('0 0 공유 카카오 페이스북 트위터')[0]\n",
        "\n",
        "for i in range(0, content_len):\n",
        "  df['뉴스내용'][i] = df['뉴스내용'][i].split('저작권자 한국일보')[0]\n",
        "\n",
        "\n",
        "for i in range(0, content_len):\n",
        "  df['뉴스내용'][i] = df['뉴스내용'][i].split('Copyright 이데일리')[0]\n",
        "\n",
        "for i in range(0, content_len):\n",
        "  df['뉴스내용'][i] = df['뉴스내용'][i].split('Copyright 한겨레')[0]\n",
        "\n",
        "for i in range(0, content_len):\n",
        "  df['뉴스내용'][i] = df['뉴스내용'][i].split('edaily co kr')[0]\n",
        "\n",
        "# for i in range(0, content_len):\n",
        "#   df['뉴스내용'][i] = df['뉴스내용'][i].split('ksilbo co kr')[0]\n",
        "\n",
        "for i in range(0, content_len):\n",
        "  df['뉴스내용'][i] = df['뉴스내용'][i].split('kado net')[0]\n",
        "\n",
        "for i in range(0, content_len):\n",
        "  df['뉴스내용'][i] = df['뉴스내용'][i].split('저작권자 강원도민일보')[0]\n",
        "\n",
        "for i in range(0, content_len):\n",
        "  df['뉴스내용'][i] = df['뉴스내용'][i].split('Copyright 경향신문')[0]\n",
        "\n",
        "for i in range(0, content_len):\n",
        "  df['뉴스내용'][i] = df['뉴스내용'][i].split('Copyright 전자신문')[0]\n",
        "\n",
        "for i in range(0, content_len):\n",
        "  df['뉴스내용'][i] = df['뉴스내용'][i].split('hkbs co kr')[0]\n",
        "\n",
        "for i in range(0, content_len):\n",
        "  df['뉴스내용'][i] = df['뉴스내용'][i].split('저작권자 환경일보')[0]\n",
        "\n",
        "# for i in range(0, content_len):\n",
        "#   df['뉴스내용'][i] = df['뉴스내용'][i].split('newspim com')[0]\n",
        "\n",
        "# for i in range(0, content_len):\n",
        "#   df['뉴스내용'][i] = df['뉴스내용'][i].split('nongmin com')[0]\n",
        "\n",
        "for i in range(0, content_len):\n",
        "  df['뉴스내용'][i] = df['뉴스내용'][i].split('cctoday co kr')[0]\n",
        "\n",
        "# for i in range(0, content_len):\n",
        "#   df['뉴스내용'][i] = df['뉴스내용'][i].split('etnews com')[0]\n",
        "\n",
        "for i in range(0, content_len):\n",
        "  df['뉴스내용'][i] = df['뉴스내용'][i].split('cbs co kr')[0]\n",
        "\n",
        "# for i in range(0, content_len):\n",
        "#   df['뉴스내용'][i] = df['뉴스내용'][i].split('kyeongin com')[0]\n",
        "\n",
        "for i in range(0, content_len):\n",
        "  df['뉴스내용'][i] = df['뉴스내용'][i].split('ksilbo co k')[0]\n",
        "\n",
        "for i in range(0, content_len):\n",
        "  df['뉴스내용'][i] = df['뉴스내용'][i].split('뉴스1 Copyright ')[0]\n",
        "\n",
        "for i in range(0, content_len):\n",
        "  df['뉴스내용'][i] = df['뉴스내용'][i].split('원본 기사 보기 부산브레이크뉴스')[0]\n",
        "\n",
        "for i in range(0, content_len):\n",
        "  df['뉴스내용'][i] = df['뉴스내용'][i].split('Copyright 강원일보')[0]\n",
        "\n",
        "\n",
        "###\n",
        "for i in range(0, content_len):\n",
        "  df['뉴스내용'][i] = df['뉴스내용'][i].split('저작권자 남도일보')[0]\n",
        "\n",
        "for i in range(0, content_len):\n",
        "  df['뉴스내용'][i] = df['뉴스내용'][i].split('저작권자 경남도민신문')[0]\n",
        "\n",
        "for i in range(0, content_len):\n",
        "  df['뉴스내용'][i] = df['뉴스내용'][i].split('저작권자 대구신문')[0]\n",
        "\n",
        "for i in range(0, content_len):\n",
        "  df['뉴스내용'][i] = df['뉴스내용'][i].split('무단전재 및 수집 재배포금지')[0]\n",
        "\n",
        "for i in range(0, content_len):\n",
        "  df['뉴스내용'][i] = df['뉴스내용'][i].split('저작권자 고양문')[0]\n"
      ],
      "metadata": {
        "id": "uAXLJeudGUQL"
      },
      "execution_count": null,
      "outputs": []
    },
    {
      "cell_type": "markdown",
      "source": [
        "불용어 처리"
      ],
      "metadata": {
        "id": "9YwlPiFNGkSI"
      }
    },
    {
      "cell_type": "code",
      "source": [
        "## 필요없는 경우가 문장인 경우, '불용어'로 대체\n",
        "\n",
        "rowlen = nan_delete.shape[0]\n",
        "\n",
        "final_tokenize = []\n",
        "\n",
        "for i in range(0, rowlen):\n",
        "  doc2 = nan_delete['뉴스내용'][i]\n",
        "\n",
        "  doc2 = doc2.replace('후원제 소개', '불용어')\n",
        "  doc2 = doc2.replace('다른 기사 보기', '불용어')\n",
        "  doc2 = doc2.replace('기사제보 하기', '불용어')\n",
        "  doc2 = doc2.replace('페이스북 으 로 기사보내기', '불용어')\n",
        "  doc2 = doc2.replace('트위터 으 로 기사보내기', '불용어')\n",
        "  doc2 = doc2.replace('이메일 으 로 기사보내기', '불용어')\n",
        "  doc2 = doc2.replace('URL복사 으 로 기사보내기','불용어')\n",
        "  doc2 = doc2.replace('카카오톡 으 로 기사보내기','불용어',)\n",
        "  doc2 = doc2.replace('카카오스토리 으 로 기사보내기', '불용어')\n",
        "  doc2 = doc2.replace('네이버밴드 으 로 기사보내기', '불용어')\n",
        "  doc2 = doc2.replace('네이버블로그 으 로 기사보내기', '불용어')\n",
        "  doc2 = doc2.replace('페이스북 트위터 네이버포스트 구글 카카오스토리 카카오톡 네이버밴드 텔레그램', '불용어')\n",
        "  doc2 = doc2.replace('카카오톡 페이스북 트위터 카카오스토리 전체 네이버밴드 네이터블로그', '불용어')\n",
        "  doc2 = doc2.replace('페이스북 트위터 카카오스토리 밴드 네이버블로그 카카오톡 라인 URL복사', '불용어')\n",
        "  doc2 = doc2.replace('공유 close 페이스북 트위터 카카오스토리 카카오톡 네이버밴드 네이버블로그 핀터레스트 httpURL복사 글자크기 설정 close 가 가 가 가 가', '불용어')\n",
        "  doc2 = doc2.replace('페이스북 트위터 카카오톡', '불용어')\n",
        "  doc2 = doc2.replace('한겨레 구독신청 하기', '불용어')\n",
        "  doc2 = doc2.replace('항상 시민과 함께하겠습니다', '불용어')\n",
        "  doc2 = doc2.replace('민주주의의 퇴행을 막아야 합니다', '불용어')\n",
        "  doc2 = doc2.replace('끈질긴 언론 한겨레의 벗이 되어주세요', '불용어')\n",
        "  doc2 = doc2.replace('한겨레는 타협하지 않겠습니다', '불용어')\n",
        "  doc2 = doc2.replace('진실을 응원해 주세요', '불용어')\n",
        "  doc2 = doc2.replace('기자의 다른기사', '불용어')\n",
        "  doc2 = doc2.replace('라이브리 댓글 작성을 위해 javascript를 활성화해주세요', '불용어')\n",
        "  doc2 = doc2.replace('네이버에서 강원일보 구독하', '불용어')\n",
        "  doc2 = doc2.replace('강원일보 네이버TV 바로가기', '불용어')\n",
        "  doc2 = doc2.replace('페이스북 다른기사 보기', '불용어')\n",
        "  doc2 = doc2.replace('다른기사 보기', '불용어')\n",
        "  doc2 = doc2.replace('메일 네이버', '불용어')\n",
        "  doc2 = doc2.replace('기자 메일', '불용어')\n",
        "  doc2 = doc2.replace('이건 어때요 영상', '불용어')\n",
        "  doc2 = doc2.replace('다른 공유 찾기', '불용어')\n",
        "  doc2 = doc2.replace('본문 글씨 키우기', '불용어')\n",
        "  doc2 = doc2.replace('본문 글씨 줄이기', '불용어')\n",
        "  doc2 = doc2.replace('이 기사를 공유합니다', '불용어')\n",
        "  doc2 = doc2.replace('경남도민일보 후원회원이 돼 주십시오', '불용어')\n",
        "  doc2 = doc2.replace('경남도민일보 후원회원 전용 커뮤니티 신문보는마을', '불용어')\n",
        "  doc2 = doc2.replace('삭제한 댓글은 다시 복구할 수 없습니다 그래도 삭제하시겠습니까', '불용어')\n",
        "  doc2 = doc2.replace('비밀번호 삭제', '불용어')\n",
        "  doc2 = doc2.replace('로그인 후 작성이 가능합니다', '불용어')\n",
        "  doc2 = doc2.replace('로그인 이름 비밀번호 내용', '불용어')\n",
        "  doc2 = doc2.replace('계정을 선택하시면 로그인 계정인증을 통해 댓글을 남길 수 있습니다', '불용어')\n",
        "  doc2 = doc2.replace('회원 로그인 이름 비밀번호 자동등록방지 확인', '불용어')\n",
        "  doc2 = doc2.replace('kyongbuk com', '불용어')\n",
        "  doc2 = doc2.replace('kbmaeil com', '불용어')\n",
        "  doc2 = doc2.replace('segye com', '불용어')\n",
        "  doc2 = doc2.replace('naver com', '불용어')\n",
        "  doc2 = doc2.replace('daum net', '불용어')\n",
        "  doc2 = doc2.replace('hanmail net', '불용어')\n",
        "  doc2 = doc2.replace('www kyeonggi com', '불용어')\n",
        "  doc2 = doc2.replace('kyeonggi com', '불용어')\n",
        "  doc2 = doc2.replace('newspim com', '불용어')\n",
        "  doc2 = doc2.replace('namdonews com', '불용어')\n",
        "  doc2 = doc2.replace('fnnews com', '불용어')\n",
        "  doc2 = doc2.replace('dailian co kr', '불용어')\n",
        "  doc2 = doc2.replace('kyunghyang com', '불용어')\n",
        "  doc2 = doc2.replace('joongdo co kr', '불용어')\n",
        "  doc2 = doc2.replace('kbmaeil com', '불용어')\n",
        "  doc2 = doc2.replace('idaegu co kr', '불용어')\n",
        "  doc2 = doc2.replace('kwnews co kr', '불용어')\n",
        "  doc2 = doc2.replace('mdlibo com', '불용어')\n",
        "  doc2 = doc2.replace('namdonews com', '불용어')\n",
        "  doc2 = doc2.replace('mediatoday co kr', '불용어')\n",
        "  doc2 = doc2.replace('incheonilbo com', '불용어')\n",
        "  doc2 = doc2.replace('kihoilbo co kr', '불용어')\n",
        "  doc2 = doc2.replace('gmail com', '불용어')\n",
        "  doc2 = doc2.replace('카카오톡 오픈채팅방', '불용어')\n",
        "  doc2 = doc2.replace('AD 원본보기 아이콘', '불용어')\n",
        "  doc2 = doc2.replace('폰트크기 변경', '불용어')\n",
        "  doc2 = doc2.replace('원본 기사 보기', '불용어')\n",
        "  doc2 = doc2.replace('무단 전재 재배포 금지', '불용어')\n",
        "  doc2 = doc2.replace('무단 전재 및 재배포 금지', '불용어')\n",
        "  doc2 = doc2.replace('0 0 바로가기', '불용어')\n",
        "  doc2 = doc2.replace('1 0 바로가기', '불용어')\n",
        "  doc2 = doc2.replace('2 0 바로가기', '불용어')\n",
        "\n",
        "  final_tokenize.append(doc2)"
      ],
      "metadata": {
        "id": "BRVQSdhMGlBI"
      },
      "execution_count": null,
      "outputs": []
    },
    {
      "cell_type": "code",
      "source": [
        "df['뉴스내용_불용어정의'] = final_tokenize"
      ],
      "metadata": {
        "id": "D-W54wx2Goin"
      },
      "execution_count": null,
      "outputs": []
    },
    {
      "cell_type": "code",
      "source": [
        "for i in range(0, rowlen):\n",
        "  # 변수에 각 게시물, 뉴스 내용 저장\n",
        "  doc = df['뉴스내용_불용어정의'][i]\n",
        "\n",
        "  # 토큰화\n",
        "  df['뉴스내용_불용어정의'][i] = str(doc).split() # 뉴스 내용 토큰화 진행"
      ],
      "metadata": {
        "id": "fBmoYVsWGuKH"
      },
      "execution_count": null,
      "outputs": []
    },
    {
      "cell_type": "code",
      "source": [
        "text_token = df['뉴스내용_불용어정의']"
      ],
      "metadata": {
        "id": "y-2fAjO_GuH2"
      },
      "execution_count": null,
      "outputs": []
    },
    {
      "cell_type": "code",
      "source": [
        "stop_words = ['후원하기', '기사입력', '기사저장', '기사보내기', '글자크기', '입력', '수정', '목록보기', '복사하기', '닫기', '더보기',\n",
        "              '사진제공', '자료사진', '유튜브구독', '네이버TV구독', '5개국어', '좋아요0', '화나요0', '추천해요0', 'URL복사',\n",
        "              '댓글삭제', '댓글쓰기', '관련기사', '기자페이지', '최신순', '추천순', 'newspim', '보기', '불용어']"
      ],
      "metadata": {
        "id": "oPynmFBlGuFX"
      },
      "execution_count": null,
      "outputs": []
    },
    {
      "cell_type": "code",
      "source": [
        "# 리스트 -> 문자열로 변환\n",
        "final_len = len(final_text)\n",
        "\n",
        "for i in range(0, final_len):\n",
        "  final_text[i] = \" \".join(final_text[i])"
      ],
      "metadata": {
        "id": "EPR9QAI0G2T1"
      },
      "execution_count": null,
      "outputs": []
    },
    {
      "cell_type": "code",
      "source": [
        "df['뉴스내용_불용어제거'] = final_text"
      ],
      "metadata": {
        "id": "1S-uD0mYG2R2"
      },
      "execution_count": null,
      "outputs": []
    },
    {
      "cell_type": "code",
      "source": [
        "df['유사도_불용어제거'] = 0"
      ],
      "metadata": {
        "id": "n_xbFt3BG2O-"
      },
      "execution_count": null,
      "outputs": []
    },
    {
      "cell_type": "code",
      "source": [
        "final_text = []\n",
        "\n",
        "for i in text_token:\n",
        "  store_text = []\n",
        "  for w in i:\n",
        "    if w not in stop_words:\n",
        "      store_text.append(w)\n",
        "\n",
        "  final_text.append(store_text)"
      ],
      "metadata": {
        "id": "0wkgG2w6GxKG"
      },
      "execution_count": null,
      "outputs": []
    },
    {
      "cell_type": "markdown",
      "source": [
        "코사인 유사도"
      ],
      "metadata": {
        "id": "j0qyr-3TZ7p1"
      }
    },
    {
      "cell_type": "code",
      "source": [
        "from sklearn.feature_extraction.text import TfidfVectorizer\n",
        "from sklearn.metrics.pairwise import cosine_similarity\n",
        "\n",
        "rowlen = nan_delete.shape[0] # 행 개수 추출\n",
        "\n",
        "# 행 개수만큼 for문으로 반복하며 유사도 측정\n",
        "for i in range(0, rowlen):\n",
        "  sentences = (nan_delete['게시물내용'][i], nan_delete['뉴스내용'][i])\n",
        "  tfidf_vectorizer = TfidfVectorizer()\n",
        "  tfidf_matrix = tfidf_vectorizer.fit_transform(sentences)\n",
        "  cos_similar = cosine_similarity(tfidf_matrix[0:1], tfidf_matrix[1:2])\n",
        "  df['유사도(코사인유사도)'][i] = cos_similar[0][0]"
      ],
      "metadata": {
        "id": "e3cTOLYTZ4i_"
      },
      "execution_count": null,
      "outputs": []
    },
    {
      "cell_type": "markdown",
      "source": [
        "자카드 유사도"
      ],
      "metadata": {
        "id": "W515xteLZ8vk"
      }
    },
    {
      "cell_type": "code",
      "source": [
        "# 자카드 유사도 구하기\n",
        "\n",
        "for i in range(0, rowlen):\n",
        "  doc1 = nan_delete['게시물내용'][i]\n",
        "  doc2 = nan_delete['뉴스내용'][i]\n",
        "\n",
        "  # 토큰화\n",
        "  doc1_tokenized = str(doc1).split()\n",
        "  doc2_tokenized = str(doc2).split()\n",
        "\n",
        "  #합집합 계산\n",
        "  doc_union = set(doc1_tokenized).union(set(doc2_tokenized))\n",
        "\n",
        "  #교집합 계산\n",
        "  doc_intersection = set(doc1_tokenized).intersection(set(doc2_tokenized))\n",
        "\n",
        "  #합집합과 교집합 비율 계산\n",
        "  jaccard_similarity = len(doc_intersection) / len(doc_union)\n",
        "\n",
        "  df['유사도(자카드유사도)'][i] = jaccard_similarity\n"
      ],
      "metadata": {
        "id": "zF-eSDK-aBoX"
      },
      "execution_count": null,
      "outputs": []
    },
    {
      "cell_type": "markdown",
      "source": [
        "n-gram"
      ],
      "metadata": {
        "id": "c81eg3WuaaEO"
      }
    },
    {
      "cell_type": "code",
      "source": [
        "!pip install konlpy"
      ],
      "metadata": {
        "id": "f_WzrIDpaBl2"
      },
      "execution_count": null,
      "outputs": []
    },
    {
      "cell_type": "code",
      "source": [
        "from konlpy.tag import Komoran\n",
        "komoran = Komoran()\n",
        "\n",
        "def word_ngram(bow, num_gram):\n",
        "    text = tuple(bow)\n",
        "    ngrams = [text[x:x + num_gram] for x in range(0, len(text))]\n",
        "    return tuple(ngrams)\n",
        "\n",
        "def similarity(doc1, doc2):\n",
        "    cnt = 0\n",
        "    for token in doc1:\n",
        "        if token in doc2:\n",
        "            cnt = cnt + 1\n",
        "    if len(doc1) == 0:\n",
        "      doc1 = ' '\n",
        "    return cnt/len(doc1)\n",
        "\n",
        "rowlen = nan_delete.shape[0] # 행 개수\n",
        "\n",
        "for i in range(0, rowlen):\n",
        "  sentence1 = nan_delete['게시물내용'][i]\n",
        "  sentence2 = nan_delete['뉴스내용'][i]\n",
        "  bow1 = komoran.nouns(sentence1)\n",
        "  bow2 = komoran.nouns(sentence2)\n",
        "  doc1 = word_ngram(bow1, 2) # 2-gram 방식으로 추출\n",
        "  doc2 = word_ngram(bow2, 2)\n",
        "\n",
        "  r1 = similarity(doc1, doc2)\n",
        "  df['유사도(n-gram)'][i] = r1"
      ],
      "metadata": {
        "id": "kiLlSPfBaBjd"
      },
      "execution_count": null,
      "outputs": []
    },
    {
      "cell_type": "markdown",
      "source": [
        "변형 자카드 유사도 (게시물 기준)"
      ],
      "metadata": {
        "id": "aCBAuDh1ah2u"
      }
    },
    {
      "cell_type": "code",
      "source": [
        "# 유사도 계산\n",
        "\n",
        "rowlen = nan_delete.shape[0]\n",
        "\n",
        "for i in range(0, rowlen):\n",
        "  # 변수에 각 게시물, 뉴스 내용 저장\n",
        "  doc1 = nan_delete['게시물내용'][i]\n",
        "  doc2 = nan_delete['뉴스내용'][i]\n",
        "\n",
        "  # 토큰화\n",
        "  doc1_tokenized = str(doc1).split() # 게시물 내용 토큰화\n",
        "  doc2_tokenized = str(doc2).split() # 뉴스 내용 토큰화\n",
        "\n",
        "  # 교집합 계산\n",
        "  # 게시물과 뉴스 내용 겹치는 부분 계산\n",
        "  doc_intersection = set(doc1_tokenized).intersection(set(doc2_tokenized))\\\n",
        "\n",
        "  # 유사도 측정 - 게시물 기준\n",
        "  similarity = len(doc_intersection) / len(doc1_tokenized)\n",
        "\n",
        "  df['유사도(자카드_게시물)'][i] = similarity"
      ],
      "metadata": {
        "id": "-IEicGBDasp_"
      },
      "execution_count": null,
      "outputs": []
    },
    {
      "cell_type": "markdown",
      "source": [
        "변형 자카드 유사도 (뉴스 기준)"
      ],
      "metadata": {
        "id": "BWdSXcCQayTO"
      }
    },
    {
      "cell_type": "code",
      "source": [
        "# 유사도 계산\n",
        "\n",
        "rowlen = nan_delete.shape[0]\n",
        "\n",
        "for i in range(0, rowlen):\n",
        "  # 변수에 각 게시물, 뉴스 내용 저장\n",
        "  doc1 = nan_delete['게시물내용'][i]\n",
        "  doc2 = nan_delete['뉴스내용'][i]\n",
        "\n",
        "  # 토큰화\n",
        "  doc1_tokenized = str(doc1).split() # 게시물 내용 토큰화\n",
        "  doc2_tokenized = str(doc2).split() # 뉴스 내용 토큰화\n",
        "\n",
        "  # 교집합 계산\n",
        "  # 게시물과 뉴스 내용 겹치는 부분 계산\n",
        "  doc_intersection = set(doc1_tokenized).intersection(set(doc2_tokenized))\\\n",
        "\n",
        "  # 유사도 측정 - 뉴스 기준\n",
        "  similarity = len(doc_intersection) / len(doc2_tokenized)\n",
        "\n",
        "  df['유사도(자카드_뉴스)'][i] = similarity"
      ],
      "metadata": {
        "id": "ruWZVCM5atsW"
      },
      "execution_count": null,
      "outputs": []
    },
    {
      "cell_type": "code",
      "source": [
        "df.to_excel('output.xlsx')"
      ],
      "metadata": {
        "id": "lzlOW6z_eLvF"
      },
      "execution_count": null,
      "outputs": []
    }
  ]
}